{
  "nbformat": 4,
  "nbformat_minor": 0,
  "metadata": {
    "colab": {
      "provenance": [],
      "gpuType": "T4"
    },
    "kernelspec": {
      "name": "python3",
      "display_name": "Python 3"
    },
    "language_info": {
      "name": "python"
    },
    "accelerator": "GPU"
  },
  "cells": [
    {
      "cell_type": "code",
      "execution_count": 1,
      "metadata": {
        "colab": {
          "base_uri": "https://localhost:8080/"
        },
        "id": "cG8U92uqDVgy",
        "outputId": "79e2ad46-4337-4ee0-e55c-d87327f9e406"
      },
      "outputs": [
        {
          "output_type": "stream",
          "name": "stdout",
          "text": [
            "Mounted at /content/drive\n"
          ]
        }
      ],
      "source": [
        "# Mount Google Drive\n",
        "from google.colab import drive\n",
        "drive.mount('/content/drive')"
      ]
    },
    {
      "cell_type": "code",
      "source": [
        "# Unzip and Prepare Dataset\n",
        "import zipfile\n",
        "import os\n",
        "\n",
        "# Path to the zip file in Google Drive\n",
        "zip_file_path = \"/content/drive/MyDrive/Empty_Spaces_Detection_in_ShelfData.zip\"\n",
        "unzip_dir = \"/content/dataset\"\n",
        "\n",
        "# Unzip the dataset\n",
        "with zipfile.ZipFile(zip_file_path, 'r') as zip_ref:\n",
        "    zip_ref.extractall(unzip_dir)"
      ],
      "metadata": {
        "id": "G4DA9t_MEEe6"
      },
      "execution_count": 2,
      "outputs": []
    },
    {
      "cell_type": "code",
      "source": [
        "# Install YOLOv8 package (ultralytics)\n",
        "!pip install ultralytics"
      ],
      "metadata": {
        "colab": {
          "base_uri": "https://localhost:8080/"
        },
        "id": "0G0tNJiDDlZz",
        "outputId": "ec9443e8-1edc-4376-cecd-c67806f9aad3"
      },
      "execution_count": 3,
      "outputs": [
        {
          "output_type": "stream",
          "name": "stdout",
          "text": [
            "Collecting ultralytics\n",
            "  Downloading ultralytics-8.3.0-py3-none-any.whl.metadata (34 kB)\n",
            "Requirement already satisfied: numpy<2.0.0,>=1.23.0 in /usr/local/lib/python3.10/dist-packages (from ultralytics) (1.26.4)\n",
            "Requirement already satisfied: matplotlib>=3.3.0 in /usr/local/lib/python3.10/dist-packages (from ultralytics) (3.7.1)\n",
            "Requirement already satisfied: opencv-python>=4.6.0 in /usr/local/lib/python3.10/dist-packages (from ultralytics) (4.10.0.84)\n",
            "Requirement already satisfied: pillow>=7.1.2 in /usr/local/lib/python3.10/dist-packages (from ultralytics) (10.4.0)\n",
            "Requirement already satisfied: pyyaml>=5.3.1 in /usr/local/lib/python3.10/dist-packages (from ultralytics) (6.0.2)\n",
            "Requirement already satisfied: requests>=2.23.0 in /usr/local/lib/python3.10/dist-packages (from ultralytics) (2.32.3)\n",
            "Requirement already satisfied: scipy>=1.4.1 in /usr/local/lib/python3.10/dist-packages (from ultralytics) (1.13.1)\n",
            "Requirement already satisfied: torch>=1.8.0 in /usr/local/lib/python3.10/dist-packages (from ultralytics) (2.4.1+cu121)\n",
            "Requirement already satisfied: torchvision>=0.9.0 in /usr/local/lib/python3.10/dist-packages (from ultralytics) (0.19.1+cu121)\n",
            "Requirement already satisfied: tqdm>=4.64.0 in /usr/local/lib/python3.10/dist-packages (from ultralytics) (4.66.5)\n",
            "Requirement already satisfied: psutil in /usr/local/lib/python3.10/dist-packages (from ultralytics) (5.9.5)\n",
            "Requirement already satisfied: py-cpuinfo in /usr/local/lib/python3.10/dist-packages (from ultralytics) (9.0.0)\n",
            "Requirement already satisfied: pandas>=1.1.4 in /usr/local/lib/python3.10/dist-packages (from ultralytics) (2.1.4)\n",
            "Requirement already satisfied: seaborn>=0.11.0 in /usr/local/lib/python3.10/dist-packages (from ultralytics) (0.13.1)\n",
            "Collecting ultralytics-thop>=2.0.0 (from ultralytics)\n",
            "  Downloading ultralytics_thop-2.0.8-py3-none-any.whl.metadata (9.3 kB)\n",
            "Requirement already satisfied: contourpy>=1.0.1 in /usr/local/lib/python3.10/dist-packages (from matplotlib>=3.3.0->ultralytics) (1.3.0)\n",
            "Requirement already satisfied: cycler>=0.10 in /usr/local/lib/python3.10/dist-packages (from matplotlib>=3.3.0->ultralytics) (0.12.1)\n",
            "Requirement already satisfied: fonttools>=4.22.0 in /usr/local/lib/python3.10/dist-packages (from matplotlib>=3.3.0->ultralytics) (4.53.1)\n",
            "Requirement already satisfied: kiwisolver>=1.0.1 in /usr/local/lib/python3.10/dist-packages (from matplotlib>=3.3.0->ultralytics) (1.4.7)\n",
            "Requirement already satisfied: packaging>=20.0 in /usr/local/lib/python3.10/dist-packages (from matplotlib>=3.3.0->ultralytics) (24.1)\n",
            "Requirement already satisfied: pyparsing>=2.3.1 in /usr/local/lib/python3.10/dist-packages (from matplotlib>=3.3.0->ultralytics) (3.1.4)\n",
            "Requirement already satisfied: python-dateutil>=2.7 in /usr/local/lib/python3.10/dist-packages (from matplotlib>=3.3.0->ultralytics) (2.8.2)\n",
            "Requirement already satisfied: pytz>=2020.1 in /usr/local/lib/python3.10/dist-packages (from pandas>=1.1.4->ultralytics) (2024.2)\n",
            "Requirement already satisfied: tzdata>=2022.1 in /usr/local/lib/python3.10/dist-packages (from pandas>=1.1.4->ultralytics) (2024.1)\n",
            "Requirement already satisfied: charset-normalizer<4,>=2 in /usr/local/lib/python3.10/dist-packages (from requests>=2.23.0->ultralytics) (3.3.2)\n",
            "Requirement already satisfied: idna<4,>=2.5 in /usr/local/lib/python3.10/dist-packages (from requests>=2.23.0->ultralytics) (3.10)\n",
            "Requirement already satisfied: urllib3<3,>=1.21.1 in /usr/local/lib/python3.10/dist-packages (from requests>=2.23.0->ultralytics) (2.2.3)\n",
            "Requirement already satisfied: certifi>=2017.4.17 in /usr/local/lib/python3.10/dist-packages (from requests>=2.23.0->ultralytics) (2024.8.30)\n",
            "Requirement already satisfied: filelock in /usr/local/lib/python3.10/dist-packages (from torch>=1.8.0->ultralytics) (3.16.1)\n",
            "Requirement already satisfied: typing-extensions>=4.8.0 in /usr/local/lib/python3.10/dist-packages (from torch>=1.8.0->ultralytics) (4.12.2)\n",
            "Requirement already satisfied: sympy in /usr/local/lib/python3.10/dist-packages (from torch>=1.8.0->ultralytics) (1.13.3)\n",
            "Requirement already satisfied: networkx in /usr/local/lib/python3.10/dist-packages (from torch>=1.8.0->ultralytics) (3.3)\n",
            "Requirement already satisfied: jinja2 in /usr/local/lib/python3.10/dist-packages (from torch>=1.8.0->ultralytics) (3.1.4)\n",
            "Requirement already satisfied: fsspec in /usr/local/lib/python3.10/dist-packages (from torch>=1.8.0->ultralytics) (2024.6.1)\n",
            "Requirement already satisfied: six>=1.5 in /usr/local/lib/python3.10/dist-packages (from python-dateutil>=2.7->matplotlib>=3.3.0->ultralytics) (1.16.0)\n",
            "Requirement already satisfied: MarkupSafe>=2.0 in /usr/local/lib/python3.10/dist-packages (from jinja2->torch>=1.8.0->ultralytics) (2.1.5)\n",
            "Requirement already satisfied: mpmath<1.4,>=1.1.0 in /usr/local/lib/python3.10/dist-packages (from sympy->torch>=1.8.0->ultralytics) (1.3.0)\n",
            "Downloading ultralytics-8.3.0-py3-none-any.whl (881 kB)\n",
            "\u001b[2K   \u001b[90m━━━━━━━━━━━━━━━━━━━━━━━━━━━━━━━━━━━━━━━━\u001b[0m \u001b[32m881.3/881.3 kB\u001b[0m \u001b[31m24.6 MB/s\u001b[0m eta \u001b[36m0:00:00\u001b[0m\n",
            "\u001b[?25hDownloading ultralytics_thop-2.0.8-py3-none-any.whl (26 kB)\n",
            "Installing collected packages: ultralytics-thop, ultralytics\n",
            "Successfully installed ultralytics-8.3.0 ultralytics-thop-2.0.8\n"
          ]
        }
      ]
    },
    {
      "cell_type": "code",
      "source": [
        "# Import YOLOv8 library\n",
        "from ultralytics import YOLO\n",
        "\n",
        "# Set paths (Update these paths to your dataset location)\n",
        "data_yaml = '/content/dataset/data.yaml'  # Path to the dataset YAML file\n",
        "model_path = '/content/yolov8_best.pt'  # Path where you want to save the trained model"
      ],
      "metadata": {
        "colab": {
          "base_uri": "https://localhost:8080/"
        },
        "id": "3B4vxZzsDo_z",
        "outputId": "9e169d29-351a-48cc-97d1-c377c17c3e79"
      },
      "execution_count": 4,
      "outputs": [
        {
          "output_type": "stream",
          "name": "stdout",
          "text": [
            "Creating new Ultralytics Settings v0.0.6 file ✅ \n",
            "View Ultralytics Settings with 'yolo settings' or at '/root/.config/Ultralytics/settings.json'\n",
            "Update Settings with 'yolo settings key=value', i.e. 'yolo settings runs_dir=path/to/dir'. For help see https://docs.ultralytics.com/quickstart/#ultralytics-settings.\n"
          ]
        }
      ]
    },
    {
      "cell_type": "code",
      "source": [
        "# Load the YOLOv8 model (yolov8n for small model, you can use yolov8s, yolov8m, etc.)\n",
        "model = YOLO('yolov8n.pt')\n",
        "\n",
        "# Train the model\n",
        "model.train(\n",
        "    data=data_yaml,  # Path to the dataset YAML\n",
        "    epochs=10,      # Number of epochs\n",
        "    batch=16,        # Batch size\n",
        "    imgsz=640,       # Image size\n",
        "    save=True,       # Save the model after training\n",
        "    save_period=1,   # Save checkpoint every epoch\n",
        "    workers=4        # Number of workers\n",
        ")"
      ],
      "metadata": {
        "colab": {
          "base_uri": "https://localhost:8080/"
        },
        "id": "QQSqb-KFDppr",
        "outputId": "cba4a61e-4d99-4613-d37f-dfa904664dd3"
      },
      "execution_count": 5,
      "outputs": [
        {
          "output_type": "stream",
          "name": "stdout",
          "text": [
            "Downloading https://github.com/ultralytics/assets/releases/download/v8.3.0/yolov8n.pt to 'yolov8n.pt'...\n"
          ]
        },
        {
          "output_type": "stream",
          "name": "stderr",
          "text": [
            "100%|██████████| 6.25M/6.25M [00:00<00:00, 134MB/s]\n"
          ]
        },
        {
          "output_type": "stream",
          "name": "stdout",
          "text": [
            "Ultralytics 8.3.0 🚀 Python-3.10.12 torch-2.4.1+cu121 CUDA:0 (Tesla T4, 15102MiB)\n",
            "\u001b[34m\u001b[1mengine/trainer: \u001b[0mtask=detect, mode=train, model=yolov8n.pt, data=/content/dataset/data.yaml, epochs=10, time=None, patience=100, batch=16, imgsz=640, save=True, save_period=1, cache=False, device=None, workers=4, project=None, name=train, exist_ok=False, pretrained=True, optimizer=auto, verbose=True, seed=0, deterministic=True, single_cls=False, rect=False, cos_lr=False, close_mosaic=10, resume=False, amp=True, fraction=1.0, profile=False, freeze=None, multi_scale=False, overlap_mask=True, mask_ratio=4, dropout=0.0, val=True, split=val, save_json=False, save_hybrid=False, conf=None, iou=0.7, max_det=300, half=False, dnn=False, plots=True, source=None, vid_stride=1, stream_buffer=False, visualize=False, augment=False, agnostic_nms=False, classes=None, retina_masks=False, embed=None, show=False, save_frames=False, save_txt=False, save_conf=False, save_crop=False, show_labels=True, show_conf=True, show_boxes=True, line_width=None, format=torchscript, keras=False, optimize=False, int8=False, dynamic=False, simplify=True, opset=None, workspace=4, nms=False, lr0=0.01, lrf=0.01, momentum=0.937, weight_decay=0.0005, warmup_epochs=3.0, warmup_momentum=0.8, warmup_bias_lr=0.1, box=7.5, cls=0.5, dfl=1.5, pose=12.0, kobj=1.0, label_smoothing=0.0, nbs=64, hsv_h=0.015, hsv_s=0.7, hsv_v=0.4, degrees=0.0, translate=0.1, scale=0.5, shear=0.0, perspective=0.0, flipud=0.0, fliplr=0.5, bgr=0.0, mosaic=1.0, mixup=0.0, copy_paste=0.0, copy_paste_mode=flip, auto_augment=randaugment, erasing=0.4, crop_fraction=1.0, cfg=None, tracker=botsort.yaml, save_dir=runs/detect/train\n",
            "Downloading https://ultralytics.com/assets/Arial.ttf to '/root/.config/Ultralytics/Arial.ttf'...\n"
          ]
        },
        {
          "output_type": "stream",
          "name": "stderr",
          "text": [
            "100%|██████████| 755k/755k [00:00<00:00, 22.6MB/s]\n"
          ]
        },
        {
          "output_type": "stream",
          "name": "stdout",
          "text": [
            "Overriding model.yaml nc=80 with nc=1\n",
            "\n",
            "                   from  n    params  module                                       arguments                     \n",
            "  0                  -1  1       464  ultralytics.nn.modules.conv.Conv             [3, 16, 3, 2]                 \n",
            "  1                  -1  1      4672  ultralytics.nn.modules.conv.Conv             [16, 32, 3, 2]                \n",
            "  2                  -1  1      7360  ultralytics.nn.modules.block.C2f             [32, 32, 1, True]             \n",
            "  3                  -1  1     18560  ultralytics.nn.modules.conv.Conv             [32, 64, 3, 2]                \n",
            "  4                  -1  2     49664  ultralytics.nn.modules.block.C2f             [64, 64, 2, True]             \n",
            "  5                  -1  1     73984  ultralytics.nn.modules.conv.Conv             [64, 128, 3, 2]               \n",
            "  6                  -1  2    197632  ultralytics.nn.modules.block.C2f             [128, 128, 2, True]           \n",
            "  7                  -1  1    295424  ultralytics.nn.modules.conv.Conv             [128, 256, 3, 2]              \n",
            "  8                  -1  1    460288  ultralytics.nn.modules.block.C2f             [256, 256, 1, True]           \n",
            "  9                  -1  1    164608  ultralytics.nn.modules.block.SPPF            [256, 256, 5]                 \n",
            " 10                  -1  1         0  torch.nn.modules.upsampling.Upsample         [None, 2, 'nearest']          \n",
            " 11             [-1, 6]  1         0  ultralytics.nn.modules.conv.Concat           [1]                           \n",
            " 12                  -1  1    148224  ultralytics.nn.modules.block.C2f             [384, 128, 1]                 \n",
            " 13                  -1  1         0  torch.nn.modules.upsampling.Upsample         [None, 2, 'nearest']          \n",
            " 14             [-1, 4]  1         0  ultralytics.nn.modules.conv.Concat           [1]                           \n",
            " 15                  -1  1     37248  ultralytics.nn.modules.block.C2f             [192, 64, 1]                  \n",
            " 16                  -1  1     36992  ultralytics.nn.modules.conv.Conv             [64, 64, 3, 2]                \n",
            " 17            [-1, 12]  1         0  ultralytics.nn.modules.conv.Concat           [1]                           \n",
            " 18                  -1  1    123648  ultralytics.nn.modules.block.C2f             [192, 128, 1]                 \n",
            " 19                  -1  1    147712  ultralytics.nn.modules.conv.Conv             [128, 128, 3, 2]              \n",
            " 20             [-1, 9]  1         0  ultralytics.nn.modules.conv.Concat           [1]                           \n",
            " 21                  -1  1    493056  ultralytics.nn.modules.block.C2f             [384, 256, 1]                 \n",
            " 22        [15, 18, 21]  1    430867  ultralytics.nn.modules.head.Detect           [1, [64, 128, 256]]           \n",
            "Model summary: 249 layers, 2,690,403 parameters, 2,690,387 gradients, 6.9 GFLOPs\n",
            "\n",
            "Transferred 313/391 items from pretrained weights\n",
            "\u001b[34m\u001b[1mTensorBoard: \u001b[0mStart with 'tensorboard --logdir runs/detect/train', view at http://localhost:6006/\n",
            "Freezing layer 'model.22.dfl.conv.weight'\n",
            "\u001b[34m\u001b[1mAMP: \u001b[0mrunning Automatic Mixed Precision (AMP) checks with YOLOv8n...\n",
            "\u001b[34m\u001b[1mAMP: \u001b[0mchecks passed ✅\n"
          ]
        },
        {
          "output_type": "stream",
          "name": "stderr",
          "text": [
            "\u001b[34m\u001b[1mtrain: \u001b[0mScanning /content/dataset/train/labels... 468 images, 3 backgrounds, 0 corrupt: 100%|██████████| 468/468 [00:00<00:00, 1803.00it/s]"
          ]
        },
        {
          "output_type": "stream",
          "name": "stdout",
          "text": [
            "\u001b[34m\u001b[1mtrain: \u001b[0mNew cache created: /content/dataset/train/labels.cache\n",
            "WARNING ⚠️ Box and segment counts should be equal, but got len(segments) = 45, len(boxes) = 2283. To resolve this only boxes will be used and all segments will be removed. To avoid this please supply either a detect or segment dataset, not a detect-segment mixed dataset.\n"
          ]
        },
        {
          "output_type": "stream",
          "name": "stderr",
          "text": [
            "\n"
          ]
        },
        {
          "output_type": "stream",
          "name": "stdout",
          "text": [
            "\u001b[34m\u001b[1malbumentations: \u001b[0mBlur(p=0.01, blur_limit=(3, 7)), MedianBlur(p=0.01, blur_limit=(3, 7)), ToGray(p=0.01, num_output_channels=3, method='weighted_average'), CLAHE(p=0.01, clip_limit=(1, 4.0), tile_grid_size=(8, 8))\n"
          ]
        },
        {
          "output_type": "stream",
          "name": "stderr",
          "text": [
            "/usr/local/lib/python3.10/dist-packages/albumentations/__init__.py:13: UserWarning: A new version of Albumentations is available: 1.4.16 (you have 1.4.15). Upgrade using: pip install -U albumentations. To disable automatic update checks, set the environment variable NO_ALBUMENTATIONS_UPDATE to 1.\n",
            "  check_for_updates()\n",
            "\u001b[34m\u001b[1mval: \u001b[0mScanning /content/dataset/valid/labels... 72 images, 0 backgrounds, 0 corrupt: 100%|██████████| 72/72 [00:00<00:00, 1586.02it/s]"
          ]
        },
        {
          "output_type": "stream",
          "name": "stdout",
          "text": [
            "\u001b[34m\u001b[1mval: \u001b[0mNew cache created: /content/dataset/valid/labels.cache\n",
            "WARNING ⚠️ Box and segment counts should be equal, but got len(segments) = 4, len(boxes) = 334. To resolve this only boxes will be used and all segments will be removed. To avoid this please supply either a detect or segment dataset, not a detect-segment mixed dataset.\n"
          ]
        },
        {
          "output_type": "stream",
          "name": "stderr",
          "text": [
            "\n"
          ]
        },
        {
          "output_type": "stream",
          "name": "stdout",
          "text": [
            "Plotting labels to runs/detect/train/labels.jpg... \n",
            "\u001b[34m\u001b[1moptimizer:\u001b[0m 'optimizer=auto' found, ignoring 'lr0=0.01' and 'momentum=0.937' and determining best 'optimizer', 'lr0' and 'momentum' automatically... \n",
            "\u001b[34m\u001b[1moptimizer:\u001b[0m AdamW(lr=0.002, momentum=0.9) with parameter groups 63 weight(decay=0.0), 70 weight(decay=0.0005), 69 bias(decay=0.0)\n",
            "\u001b[34m\u001b[1mTensorBoard: \u001b[0mmodel graph visualization added ✅\n",
            "Image sizes 640 train, 640 val\n",
            "Using 2 dataloader workers\n",
            "Logging results to \u001b[1mruns/detect/train\u001b[0m\n",
            "Starting training for 10 epochs...\n",
            "Closing dataloader mosaic\n",
            "\u001b[34m\u001b[1malbumentations: \u001b[0mBlur(p=0.01, blur_limit=(3, 7)), MedianBlur(p=0.01, blur_limit=(3, 7)), ToGray(p=0.01, num_output_channels=3, method='weighted_average'), CLAHE(p=0.01, clip_limit=(1, 4.0), tile_grid_size=(8, 8))\n",
            "\n",
            "      Epoch    GPU_mem   box_loss   cls_loss   dfl_loss  Instances       Size\n"
          ]
        },
        {
          "output_type": "stream",
          "name": "stderr",
          "text": [
            "       1/10      2.42G      2.283      3.699      1.781         10        640: 100%|██████████| 30/30 [00:13<00:00,  2.22it/s]\n",
            "                 Class     Images  Instances      Box(P          R      mAP50  mAP50-95): 100%|██████████| 3/3 [00:02<00:00,  1.10it/s]"
          ]
        },
        {
          "output_type": "stream",
          "name": "stdout",
          "text": [
            "                   all         72        334    0.00921      0.596      0.128     0.0595\n"
          ]
        },
        {
          "output_type": "stream",
          "name": "stderr",
          "text": [
            "\n"
          ]
        },
        {
          "output_type": "stream",
          "name": "stdout",
          "text": [
            "\n",
            "      Epoch    GPU_mem   box_loss   cls_loss   dfl_loss  Instances       Size\n"
          ]
        },
        {
          "output_type": "stream",
          "name": "stderr",
          "text": [
            "       2/10      2.35G      1.999      2.588      1.386         12        640: 100%|██████████| 30/30 [00:07<00:00,  3.91it/s]\n",
            "                 Class     Images  Instances      Box(P          R      mAP50  mAP50-95): 100%|██████████| 3/3 [00:00<00:00,  3.88it/s]"
          ]
        },
        {
          "output_type": "stream",
          "name": "stdout",
          "text": [
            "                   all         72        334      0.421      0.219      0.205     0.0815\n"
          ]
        },
        {
          "output_type": "stream",
          "name": "stderr",
          "text": [
            "\n"
          ]
        },
        {
          "output_type": "stream",
          "name": "stdout",
          "text": [
            "\n",
            "      Epoch    GPU_mem   box_loss   cls_loss   dfl_loss  Instances       Size\n"
          ]
        },
        {
          "output_type": "stream",
          "name": "stderr",
          "text": [
            "       3/10      2.35G      1.885      2.178      1.374         19        640: 100%|██████████| 30/30 [00:10<00:00,  2.85it/s]\n",
            "                 Class     Images  Instances      Box(P          R      mAP50  mAP50-95): 100%|██████████| 3/3 [00:00<00:00,  3.50it/s]"
          ]
        },
        {
          "output_type": "stream",
          "name": "stdout",
          "text": [
            "                   all         72        334      0.754     0.0749      0.212     0.0929\n"
          ]
        },
        {
          "output_type": "stream",
          "name": "stderr",
          "text": [
            "\n"
          ]
        },
        {
          "output_type": "stream",
          "name": "stdout",
          "text": [
            "\n",
            "      Epoch    GPU_mem   box_loss   cls_loss   dfl_loss  Instances       Size\n"
          ]
        },
        {
          "output_type": "stream",
          "name": "stderr",
          "text": [
            "       4/10      2.34G      1.886      2.021      1.387         20        640: 100%|██████████| 30/30 [00:08<00:00,  3.43it/s]\n",
            "                 Class     Images  Instances      Box(P          R      mAP50  mAP50-95): 100%|██████████| 3/3 [00:01<00:00,  2.68it/s]"
          ]
        },
        {
          "output_type": "stream",
          "name": "stdout",
          "text": [
            "                   all         72        334        0.5      0.398      0.401      0.168\n"
          ]
        },
        {
          "output_type": "stream",
          "name": "stderr",
          "text": [
            "\n"
          ]
        },
        {
          "output_type": "stream",
          "name": "stdout",
          "text": [
            "\n",
            "      Epoch    GPU_mem   box_loss   cls_loss   dfl_loss  Instances       Size\n"
          ]
        },
        {
          "output_type": "stream",
          "name": "stderr",
          "text": [
            "       5/10      2.35G       1.87      1.928      1.368         19        640: 100%|██████████| 30/30 [00:09<00:00,  3.16it/s]\n",
            "                 Class     Images  Instances      Box(P          R      mAP50  mAP50-95): 100%|██████████| 3/3 [00:00<00:00,  3.43it/s]"
          ]
        },
        {
          "output_type": "stream",
          "name": "stdout",
          "text": [
            "                   all         72        334      0.508      0.443      0.408      0.189\n"
          ]
        },
        {
          "output_type": "stream",
          "name": "stderr",
          "text": [
            "\n"
          ]
        },
        {
          "output_type": "stream",
          "name": "stdout",
          "text": [
            "\n",
            "      Epoch    GPU_mem   box_loss   cls_loss   dfl_loss  Instances       Size\n"
          ]
        },
        {
          "output_type": "stream",
          "name": "stderr",
          "text": [
            "       6/10      2.33G      1.832       1.83      1.342         12        640: 100%|██████████| 30/30 [00:10<00:00,  2.97it/s]\n",
            "                 Class     Images  Instances      Box(P          R      mAP50  mAP50-95): 100%|██████████| 3/3 [00:01<00:00,  1.91it/s]\n"
          ]
        },
        {
          "output_type": "stream",
          "name": "stdout",
          "text": [
            "                   all         72        334      0.466      0.402      0.402      0.185\n",
            "\n",
            "      Epoch    GPU_mem   box_loss   cls_loss   dfl_loss  Instances       Size\n"
          ]
        },
        {
          "output_type": "stream",
          "name": "stderr",
          "text": [
            "       7/10      2.33G      1.786      1.765        1.3         11        640: 100%|██████████| 30/30 [00:07<00:00,  4.02it/s]\n",
            "                 Class     Images  Instances      Box(P          R      mAP50  mAP50-95): 100%|██████████| 3/3 [00:00<00:00,  3.51it/s]"
          ]
        },
        {
          "output_type": "stream",
          "name": "stdout",
          "text": [
            "                   all         72        334      0.613      0.437       0.49       0.23\n"
          ]
        },
        {
          "output_type": "stream",
          "name": "stderr",
          "text": [
            "\n"
          ]
        },
        {
          "output_type": "stream",
          "name": "stdout",
          "text": [
            "\n",
            "      Epoch    GPU_mem   box_loss   cls_loss   dfl_loss  Instances       Size\n"
          ]
        },
        {
          "output_type": "stream",
          "name": "stderr",
          "text": [
            "       8/10      2.36G      1.727      1.615       1.27         16        640: 100%|██████████| 30/30 [00:11<00:00,  2.59it/s]\n",
            "                 Class     Images  Instances      Box(P          R      mAP50  mAP50-95): 100%|██████████| 3/3 [00:00<00:00,  4.65it/s]"
          ]
        },
        {
          "output_type": "stream",
          "name": "stdout",
          "text": [
            "                   all         72        334      0.622      0.506      0.553      0.261\n"
          ]
        },
        {
          "output_type": "stream",
          "name": "stderr",
          "text": [
            "\n"
          ]
        },
        {
          "output_type": "stream",
          "name": "stdout",
          "text": [
            "\n",
            "      Epoch    GPU_mem   box_loss   cls_loss   dfl_loss  Instances       Size\n"
          ]
        },
        {
          "output_type": "stream",
          "name": "stderr",
          "text": [
            "       9/10      2.35G      1.729      1.609       1.28         16        640: 100%|██████████| 30/30 [00:07<00:00,  4.05it/s]\n",
            "                 Class     Images  Instances      Box(P          R      mAP50  mAP50-95): 100%|██████████| 3/3 [00:01<00:00,  2.97it/s]"
          ]
        },
        {
          "output_type": "stream",
          "name": "stdout",
          "text": [
            "                   all         72        334      0.589      0.569      0.553      0.253\n"
          ]
        },
        {
          "output_type": "stream",
          "name": "stderr",
          "text": [
            "\n"
          ]
        },
        {
          "output_type": "stream",
          "name": "stdout",
          "text": [
            "\n",
            "      Epoch    GPU_mem   box_loss   cls_loss   dfl_loss  Instances       Size\n"
          ]
        },
        {
          "output_type": "stream",
          "name": "stderr",
          "text": [
            "      10/10      2.36G      1.697      1.533      1.266         19        640: 100%|██████████| 30/30 [00:10<00:00,  2.97it/s]\n",
            "                 Class     Images  Instances      Box(P          R      mAP50  mAP50-95): 100%|██████████| 3/3 [00:00<00:00,  3.67it/s]"
          ]
        },
        {
          "output_type": "stream",
          "name": "stdout",
          "text": [
            "                   all         72        334      0.637      0.557      0.576      0.275\n"
          ]
        },
        {
          "output_type": "stream",
          "name": "stderr",
          "text": [
            "\n"
          ]
        },
        {
          "output_type": "stream",
          "name": "stdout",
          "text": [
            "\n",
            "10 epochs completed in 0.034 hours.\n",
            "Optimizer stripped from runs/detect/train/weights/last.pt, 5.6MB\n",
            "Optimizer stripped from runs/detect/train/weights/best.pt, 5.6MB\n",
            "\n",
            "Validating runs/detect/train/weights/best.pt...\n",
            "Ultralytics 8.3.0 🚀 Python-3.10.12 torch-2.4.1+cu121 CUDA:0 (Tesla T4, 15102MiB)\n",
            "Model summary (fused): 186 layers, 2,684,563 parameters, 0 gradients, 6.8 GFLOPs\n"
          ]
        },
        {
          "output_type": "stream",
          "name": "stderr",
          "text": [
            "                 Class     Images  Instances      Box(P          R      mAP50  mAP50-95): 100%|██████████| 3/3 [00:01<00:00,  2.15it/s]\n"
          ]
        },
        {
          "output_type": "stream",
          "name": "stdout",
          "text": [
            "                   all         72        334      0.641      0.557      0.576      0.275\n",
            "Speed: 0.2ms preprocess, 3.0ms inference, 0.0ms loss, 3.2ms postprocess per image\n",
            "Results saved to \u001b[1mruns/detect/train\u001b[0m\n"
          ]
        },
        {
          "output_type": "execute_result",
          "data": {
            "text/plain": [
              "ultralytics.utils.metrics.DetMetrics object with attributes:\n",
              "\n",
              "ap_class_index: array([0])\n",
              "box: ultralytics.utils.metrics.Metric object\n",
              "confusion_matrix: <ultralytics.utils.metrics.ConfusionMatrix object at 0x7c86e0fa5c00>\n",
              "curves: ['Precision-Recall(B)', 'F1-Confidence(B)', 'Precision-Confidence(B)', 'Recall-Confidence(B)']\n",
              "curves_results: [[array([          0,    0.001001,    0.002002,    0.003003,    0.004004,    0.005005,    0.006006,    0.007007,    0.008008,    0.009009,     0.01001,    0.011011,    0.012012,    0.013013,    0.014014,    0.015015,    0.016016,    0.017017,    0.018018,    0.019019,     0.02002,    0.021021,    0.022022,    0.023023,\n",
              "          0.024024,    0.025025,    0.026026,    0.027027,    0.028028,    0.029029,     0.03003,    0.031031,    0.032032,    0.033033,    0.034034,    0.035035,    0.036036,    0.037037,    0.038038,    0.039039,     0.04004,    0.041041,    0.042042,    0.043043,    0.044044,    0.045045,    0.046046,    0.047047,\n",
              "          0.048048,    0.049049,     0.05005,    0.051051,    0.052052,    0.053053,    0.054054,    0.055055,    0.056056,    0.057057,    0.058058,    0.059059,     0.06006,    0.061061,    0.062062,    0.063063,    0.064064,    0.065065,    0.066066,    0.067067,    0.068068,    0.069069,     0.07007,    0.071071,\n",
              "          0.072072,    0.073073,    0.074074,    0.075075,    0.076076,    0.077077,    0.078078,    0.079079,     0.08008,    0.081081,    0.082082,    0.083083,    0.084084,    0.085085,    0.086086,    0.087087,    0.088088,    0.089089,     0.09009,    0.091091,    0.092092,    0.093093,    0.094094,    0.095095,\n",
              "          0.096096,    0.097097,    0.098098,    0.099099,      0.1001,      0.1011,      0.1021,      0.1031,      0.1041,     0.10511,     0.10611,     0.10711,     0.10811,     0.10911,     0.11011,     0.11111,     0.11211,     0.11311,     0.11411,     0.11512,     0.11612,     0.11712,     0.11812,     0.11912,\n",
              "           0.12012,     0.12112,     0.12212,     0.12312,     0.12412,     0.12513,     0.12613,     0.12713,     0.12813,     0.12913,     0.13013,     0.13113,     0.13213,     0.13313,     0.13413,     0.13514,     0.13614,     0.13714,     0.13814,     0.13914,     0.14014,     0.14114,     0.14214,     0.14314,\n",
              "           0.14414,     0.14515,     0.14615,     0.14715,     0.14815,     0.14915,     0.15015,     0.15115,     0.15215,     0.15315,     0.15415,     0.15516,     0.15616,     0.15716,     0.15816,     0.15916,     0.16016,     0.16116,     0.16216,     0.16316,     0.16416,     0.16517,     0.16617,     0.16717,\n",
              "           0.16817,     0.16917,     0.17017,     0.17117,     0.17217,     0.17317,     0.17417,     0.17518,     0.17618,     0.17718,     0.17818,     0.17918,     0.18018,     0.18118,     0.18218,     0.18318,     0.18418,     0.18519,     0.18619,     0.18719,     0.18819,     0.18919,     0.19019,     0.19119,\n",
              "           0.19219,     0.19319,     0.19419,      0.1952,      0.1962,      0.1972,      0.1982,      0.1992,      0.2002,      0.2012,      0.2022,      0.2032,      0.2042,     0.20521,     0.20621,     0.20721,     0.20821,     0.20921,     0.21021,     0.21121,     0.21221,     0.21321,     0.21421,     0.21522,\n",
              "           0.21622,     0.21722,     0.21822,     0.21922,     0.22022,     0.22122,     0.22222,     0.22322,     0.22422,     0.22523,     0.22623,     0.22723,     0.22823,     0.22923,     0.23023,     0.23123,     0.23223,     0.23323,     0.23423,     0.23524,     0.23624,     0.23724,     0.23824,     0.23924,\n",
              "           0.24024,     0.24124,     0.24224,     0.24324,     0.24424,     0.24525,     0.24625,     0.24725,     0.24825,     0.24925,     0.25025,     0.25125,     0.25225,     0.25325,     0.25425,     0.25526,     0.25626,     0.25726,     0.25826,     0.25926,     0.26026,     0.26126,     0.26226,     0.26326,\n",
              "           0.26426,     0.26527,     0.26627,     0.26727,     0.26827,     0.26927,     0.27027,     0.27127,     0.27227,     0.27327,     0.27427,     0.27528,     0.27628,     0.27728,     0.27828,     0.27928,     0.28028,     0.28128,     0.28228,     0.28328,     0.28428,     0.28529,     0.28629,     0.28729,\n",
              "           0.28829,     0.28929,     0.29029,     0.29129,     0.29229,     0.29329,     0.29429,      0.2953,      0.2963,      0.2973,      0.2983,      0.2993,      0.3003,      0.3013,      0.3023,      0.3033,      0.3043,     0.30531,     0.30631,     0.30731,     0.30831,     0.30931,     0.31031,     0.31131,\n",
              "           0.31231,     0.31331,     0.31431,     0.31532,     0.31632,     0.31732,     0.31832,     0.31932,     0.32032,     0.32132,     0.32232,     0.32332,     0.32432,     0.32533,     0.32633,     0.32733,     0.32833,     0.32933,     0.33033,     0.33133,     0.33233,     0.33333,     0.33433,     0.33534,\n",
              "           0.33634,     0.33734,     0.33834,     0.33934,     0.34034,     0.34134,     0.34234,     0.34334,     0.34434,     0.34535,     0.34635,     0.34735,     0.34835,     0.34935,     0.35035,     0.35135,     0.35235,     0.35335,     0.35435,     0.35536,     0.35636,     0.35736,     0.35836,     0.35936,\n",
              "           0.36036,     0.36136,     0.36236,     0.36336,     0.36436,     0.36537,     0.36637,     0.36737,     0.36837,     0.36937,     0.37037,     0.37137,     0.37237,     0.37337,     0.37437,     0.37538,     0.37638,     0.37738,     0.37838,     0.37938,     0.38038,     0.38138,     0.38238,     0.38338,\n",
              "           0.38438,     0.38539,     0.38639,     0.38739,     0.38839,     0.38939,     0.39039,     0.39139,     0.39239,     0.39339,     0.39439,      0.3954,      0.3964,      0.3974,      0.3984,      0.3994,      0.4004,      0.4014,      0.4024,      0.4034,      0.4044,     0.40541,     0.40641,     0.40741,\n",
              "           0.40841,     0.40941,     0.41041,     0.41141,     0.41241,     0.41341,     0.41441,     0.41542,     0.41642,     0.41742,     0.41842,     0.41942,     0.42042,     0.42142,     0.42242,     0.42342,     0.42442,     0.42543,     0.42643,     0.42743,     0.42843,     0.42943,     0.43043,     0.43143,\n",
              "           0.43243,     0.43343,     0.43443,     0.43544,     0.43644,     0.43744,     0.43844,     0.43944,     0.44044,     0.44144,     0.44244,     0.44344,     0.44444,     0.44545,     0.44645,     0.44745,     0.44845,     0.44945,     0.45045,     0.45145,     0.45245,     0.45345,     0.45445,     0.45546,\n",
              "           0.45646,     0.45746,     0.45846,     0.45946,     0.46046,     0.46146,     0.46246,     0.46346,     0.46446,     0.46547,     0.46647,     0.46747,     0.46847,     0.46947,     0.47047,     0.47147,     0.47247,     0.47347,     0.47447,     0.47548,     0.47648,     0.47748,     0.47848,     0.47948,\n",
              "           0.48048,     0.48148,     0.48248,     0.48348,     0.48448,     0.48549,     0.48649,     0.48749,     0.48849,     0.48949,     0.49049,     0.49149,     0.49249,     0.49349,     0.49449,      0.4955,      0.4965,      0.4975,      0.4985,      0.4995,      0.5005,      0.5015,      0.5025,      0.5035,\n",
              "            0.5045,     0.50551,     0.50651,     0.50751,     0.50851,     0.50951,     0.51051,     0.51151,     0.51251,     0.51351,     0.51451,     0.51552,     0.51652,     0.51752,     0.51852,     0.51952,     0.52052,     0.52152,     0.52252,     0.52352,     0.52452,     0.52553,     0.52653,     0.52753,\n",
              "           0.52853,     0.52953,     0.53053,     0.53153,     0.53253,     0.53353,     0.53453,     0.53554,     0.53654,     0.53754,     0.53854,     0.53954,     0.54054,     0.54154,     0.54254,     0.54354,     0.54454,     0.54555,     0.54655,     0.54755,     0.54855,     0.54955,     0.55055,     0.55155,\n",
              "           0.55255,     0.55355,     0.55455,     0.55556,     0.55656,     0.55756,     0.55856,     0.55956,     0.56056,     0.56156,     0.56256,     0.56356,     0.56456,     0.56557,     0.56657,     0.56757,     0.56857,     0.56957,     0.57057,     0.57157,     0.57257,     0.57357,     0.57457,     0.57558,\n",
              "           0.57658,     0.57758,     0.57858,     0.57958,     0.58058,     0.58158,     0.58258,     0.58358,     0.58458,     0.58559,     0.58659,     0.58759,     0.58859,     0.58959,     0.59059,     0.59159,     0.59259,     0.59359,     0.59459,      0.5956,      0.5966,      0.5976,      0.5986,      0.5996,\n",
              "            0.6006,      0.6016,      0.6026,      0.6036,      0.6046,     0.60561,     0.60661,     0.60761,     0.60861,     0.60961,     0.61061,     0.61161,     0.61261,     0.61361,     0.61461,     0.61562,     0.61662,     0.61762,     0.61862,     0.61962,     0.62062,     0.62162,     0.62262,     0.62362,\n",
              "           0.62462,     0.62563,     0.62663,     0.62763,     0.62863,     0.62963,     0.63063,     0.63163,     0.63263,     0.63363,     0.63463,     0.63564,     0.63664,     0.63764,     0.63864,     0.63964,     0.64064,     0.64164,     0.64264,     0.64364,     0.64464,     0.64565,     0.64665,     0.64765,\n",
              "           0.64865,     0.64965,     0.65065,     0.65165,     0.65265,     0.65365,     0.65465,     0.65566,     0.65666,     0.65766,     0.65866,     0.65966,     0.66066,     0.66166,     0.66266,     0.66366,     0.66466,     0.66567,     0.66667,     0.66767,     0.66867,     0.66967,     0.67067,     0.67167,\n",
              "           0.67267,     0.67367,     0.67467,     0.67568,     0.67668,     0.67768,     0.67868,     0.67968,     0.68068,     0.68168,     0.68268,     0.68368,     0.68468,     0.68569,     0.68669,     0.68769,     0.68869,     0.68969,     0.69069,     0.69169,     0.69269,     0.69369,     0.69469,      0.6957,\n",
              "            0.6967,      0.6977,      0.6987,      0.6997,      0.7007,      0.7017,      0.7027,      0.7037,      0.7047,     0.70571,     0.70671,     0.70771,     0.70871,     0.70971,     0.71071,     0.71171,     0.71271,     0.71371,     0.71471,     0.71572,     0.71672,     0.71772,     0.71872,     0.71972,\n",
              "           0.72072,     0.72172,     0.72272,     0.72372,     0.72472,     0.72573,     0.72673,     0.72773,     0.72873,     0.72973,     0.73073,     0.73173,     0.73273,     0.73373,     0.73473,     0.73574,     0.73674,     0.73774,     0.73874,     0.73974,     0.74074,     0.74174,     0.74274,     0.74374,\n",
              "           0.74474,     0.74575,     0.74675,     0.74775,     0.74875,     0.74975,     0.75075,     0.75175,     0.75275,     0.75375,     0.75475,     0.75576,     0.75676,     0.75776,     0.75876,     0.75976,     0.76076,     0.76176,     0.76276,     0.76376,     0.76476,     0.76577,     0.76677,     0.76777,\n",
              "           0.76877,     0.76977,     0.77077,     0.77177,     0.77277,     0.77377,     0.77477,     0.77578,     0.77678,     0.77778,     0.77878,     0.77978,     0.78078,     0.78178,     0.78278,     0.78378,     0.78478,     0.78579,     0.78679,     0.78779,     0.78879,     0.78979,     0.79079,     0.79179,\n",
              "           0.79279,     0.79379,     0.79479,      0.7958,      0.7968,      0.7978,      0.7988,      0.7998,      0.8008,      0.8018,      0.8028,      0.8038,      0.8048,     0.80581,     0.80681,     0.80781,     0.80881,     0.80981,     0.81081,     0.81181,     0.81281,     0.81381,     0.81481,     0.81582,\n",
              "           0.81682,     0.81782,     0.81882,     0.81982,     0.82082,     0.82182,     0.82282,     0.82382,     0.82482,     0.82583,     0.82683,     0.82783,     0.82883,     0.82983,     0.83083,     0.83183,     0.83283,     0.83383,     0.83483,     0.83584,     0.83684,     0.83784,     0.83884,     0.83984,\n",
              "           0.84084,     0.84184,     0.84284,     0.84384,     0.84484,     0.84585,     0.84685,     0.84785,     0.84885,     0.84985,     0.85085,     0.85185,     0.85285,     0.85385,     0.85485,     0.85586,     0.85686,     0.85786,     0.85886,     0.85986,     0.86086,     0.86186,     0.86286,     0.86386,\n",
              "           0.86486,     0.86587,     0.86687,     0.86787,     0.86887,     0.86987,     0.87087,     0.87187,     0.87287,     0.87387,     0.87487,     0.87588,     0.87688,     0.87788,     0.87888,     0.87988,     0.88088,     0.88188,     0.88288,     0.88388,     0.88488,     0.88589,     0.88689,     0.88789,\n",
              "           0.88889,     0.88989,     0.89089,     0.89189,     0.89289,     0.89389,     0.89489,      0.8959,      0.8969,      0.8979,      0.8989,      0.8999,      0.9009,      0.9019,      0.9029,      0.9039,      0.9049,     0.90591,     0.90691,     0.90791,     0.90891,     0.90991,     0.91091,     0.91191,\n",
              "           0.91291,     0.91391,     0.91491,     0.91592,     0.91692,     0.91792,     0.91892,     0.91992,     0.92092,     0.92192,     0.92292,     0.92392,     0.92492,     0.92593,     0.92693,     0.92793,     0.92893,     0.92993,     0.93093,     0.93193,     0.93293,     0.93393,     0.93493,     0.93594,\n",
              "           0.93694,     0.93794,     0.93894,     0.93994,     0.94094,     0.94194,     0.94294,     0.94394,     0.94494,     0.94595,     0.94695,     0.94795,     0.94895,     0.94995,     0.95095,     0.95195,     0.95295,     0.95395,     0.95495,     0.95596,     0.95696,     0.95796,     0.95896,     0.95996,\n",
              "           0.96096,     0.96196,     0.96296,     0.96396,     0.96496,     0.96597,     0.96697,     0.96797,     0.96897,     0.96997,     0.97097,     0.97197,     0.97297,     0.97397,     0.97497,     0.97598,     0.97698,     0.97798,     0.97898,     0.97998,     0.98098,     0.98198,     0.98298,     0.98398,\n",
              "           0.98498,     0.98599,     0.98699,     0.98799,     0.98899,     0.98999,     0.99099,     0.99199,     0.99299,     0.99399,     0.99499,       0.996,       0.997,       0.998,       0.999,           1]), array([[          1,           1,           1,           1,           1,           1,           1,           1,           1,           1,           1,           1,           1,           1,           1,           1,           1,           1,           1,           1,           1,           1,           1,\n",
              "                  1,           1,           1,           1,           1,           1,           1,           1,           1,           1,           1,           1,           1,        0.95,        0.95,        0.95,        0.95,        0.95,        0.95,        0.95,        0.95,        0.95,        0.95,\n",
              "               0.95,        0.95,        0.95,        0.95,        0.95,        0.95,        0.95,        0.95,        0.95,        0.95,        0.95,     0.93617,     0.93617,     0.93617,     0.93617,     0.93617,     0.93617,     0.93617,     0.93617,     0.93617,     0.93617,     0.93617,     0.93617,\n",
              "            0.93617,     0.93617,     0.93617,     0.93617,     0.93617,     0.93617,     0.93617,     0.93617,     0.93617,     0.93617,     0.93617,     0.93617,     0.93617,     0.93617,     0.93617,     0.93617,     0.93617,     0.93617,     0.93617,     0.93617,     0.93617,     0.93617,     0.93617,\n",
              "            0.93617,     0.93617,     0.93617,     0.93617,     0.93617,     0.93617,     0.93617,     0.93617,     0.93617,     0.93617,     0.93617,     0.93617,     0.93617,     0.93617,     0.93617,     0.93617,     0.93617,     0.93617,     0.93617,     0.93617,     0.93617,     0.93617,     0.93617,\n",
              "            0.93617,     0.93617,     0.93617,     0.93617,     0.93617,     0.93617,     0.93617,     0.93617,     0.93617,     0.93617,     0.93617,     0.93617,     0.93617,     0.93617,     0.93617,     0.93617,     0.93617,     0.92308,     0.92308,     0.92308,     0.92308,     0.92308,     0.92308,\n",
              "            0.92308,     0.92308,     0.92308,     0.92308,     0.92308,     0.92308,     0.91667,     0.91667,     0.91667,     0.91667,     0.91667,     0.91667,     0.91667,     0.91667,     0.91667,     0.91667,     0.91667,     0.91667,     0.91667,     0.91667,     0.91667,     0.91667,     0.91667,\n",
              "            0.91667,     0.91667,     0.91667,     0.91667,     0.90769,     0.90769,     0.90769,     0.90769,     0.90769,     0.90769,     0.90769,     0.90769,     0.90769,     0.90769,     0.90769,     0.90769,     0.89552,     0.89552,     0.89552,     0.89474,     0.89474,     0.89474,     0.89474,\n",
              "            0.89474,     0.89474,     0.89474,     0.89474,     0.89474,     0.89474,     0.89474,     0.89474,     0.89474,     0.89474,     0.89474,     0.89474,     0.89474,     0.89474,     0.89474,     0.89474,     0.89474,     0.89474,     0.89474,     0.89474,     0.88889,     0.88889,     0.88889,\n",
              "            0.88889,     0.88889,     0.88889,     0.88889,     0.88889,     0.88889,     0.88889,     0.88889,     0.88889,     0.87952,     0.87952,     0.87952,       0.875,       0.875,       0.875,       0.875,       0.875,       0.875,       0.875,       0.875,       0.875,       0.875,       0.875,\n",
              "              0.875,     0.86813,     0.86813,     0.86813,     0.86813,     0.86813,     0.86813,      0.8617,      0.8617,      0.8617,      0.8617,      0.8617,      0.8617,     0.85417,     0.85417,     0.85417,     0.85294,     0.85294,     0.85294,     0.85294,     0.85294,     0.85294,     0.85294,\n",
              "            0.85294,     0.85294,     0.85294,     0.85294,     0.85294,     0.85294,     0.85294,     0.85294,     0.84906,     0.84906,     0.84906,     0.84906,     0.84906,     0.84906,     0.84906,     0.84906,     0.84906,     0.84259,     0.84259,     0.84259,     0.83636,     0.83636,     0.83636,\n",
              "            0.82353,     0.82353,     0.82353,     0.82353,     0.82353,     0.82353,     0.82353,     0.82353,     0.82353,     0.82353,     0.82353,     0.82353,     0.82353,     0.82353,     0.82353,     0.82353,     0.82353,     0.82353,     0.81679,     0.81679,     0.81679,     0.81679,     0.81679,\n",
              "            0.81679,     0.81679,     0.81679,     0.81679,     0.81679,     0.81679,     0.81679,     0.81679,     0.81679,     0.81679,     0.81679,     0.81679,     0.81679,     0.81679,     0.81679,     0.81679,     0.81679,     0.81679,     0.81679,     0.81679,     0.81679,     0.81679,     0.81022,\n",
              "            0.81022,     0.81022,     0.81022,     0.81022,     0.81022,     0.81022,     0.81022,     0.81022,     0.81022,     0.81022,     0.81022,     0.80142,     0.80142,     0.80142,     0.80142,     0.80142,     0.78289,     0.78289,     0.78289,     0.78289,     0.78289,     0.78289,     0.78289,\n",
              "            0.78289,     0.78289,     0.78289,     0.78289,     0.78289,     0.78289,     0.78289,     0.78289,     0.78289,     0.78289,     0.78289,     0.77564,     0.77564,     0.77564,     0.77564,     0.77564,     0.77564,     0.77215,     0.77215,     0.77215,     0.76543,     0.76543,     0.76543,\n",
              "            0.76543,     0.76543,     0.76543,      0.7485,      0.7485,      0.7485,     0.74118,     0.74118,     0.74118,     0.73446,     0.73446,     0.73446,     0.73446,     0.73446,     0.73446,     0.73446,     0.73446,     0.73446,     0.73446,     0.73446,     0.73446,     0.72973,     0.72973,\n",
              "            0.72973,     0.72973,     0.72973,     0.72973,     0.72973,     0.72973,     0.72973,     0.72973,     0.72973,     0.72973,     0.72973,     0.72973,     0.72973,     0.72872,     0.72872,     0.72872,     0.72872,     0.72872,     0.72872,     0.72632,     0.72632,     0.72632,     0.72539,\n",
              "            0.72539,     0.72539,     0.72539,     0.72539,     0.72539,     0.71357,     0.71357,     0.71357,     0.71357,     0.71357,     0.71357,     0.70443,     0.70443,     0.70443,     0.69903,     0.69903,     0.69903,     0.69194,     0.69194,     0.69194,     0.69194,     0.69194,     0.69194,\n",
              "            0.69163,     0.69163,     0.69163,     0.69163,     0.69163,     0.69163,     0.69163,     0.69163,     0.69163,     0.69163,     0.69163,     0.69163,     0.69163,     0.69163,     0.69163,     0.69163,     0.69163,     0.69163,     0.69163,     0.69163,     0.69163,     0.69163,     0.69163,\n",
              "            0.69163,     0.69163,     0.69163,     0.69163,     0.69163,     0.69163,     0.69163,     0.69163,     0.69163,     0.69163,     0.69008,     0.69008,     0.69008,     0.69008,     0.69008,     0.69008,     0.69008,     0.69008,     0.69008,     0.69008,     0.69008,     0.69008,     0.69008,\n",
              "            0.69008,     0.69008,     0.69008,     0.69008,     0.69008,     0.69008,     0.69008,     0.69008,     0.69008,     0.69008,     0.69008,     0.69008,     0.69008,     0.69008,     0.69008,     0.69008,     0.69008,      0.6898,      0.6898,      0.6898,      0.6898,      0.6898,      0.6898,\n",
              "            0.68273,     0.68273,     0.68273,     0.67969,     0.67969,     0.67969,     0.67969,     0.67969,     0.67969,     0.67969,     0.67969,     0.67969,     0.67969,     0.67969,     0.67969,     0.67829,     0.67829,     0.67829,     0.67816,     0.67816,     0.67816,     0.67816,     0.67816,\n",
              "            0.67816,     0.67681,     0.67681,     0.67681,     0.67547,     0.67547,     0.67547,     0.66667,     0.66667,     0.66667,     0.65818,     0.65818,     0.65818,     0.65125,     0.65125,     0.65125,     0.65125,     0.65125,     0.65125,     0.64138,     0.64138,     0.64138,     0.64138,\n",
              "            0.64138,     0.64138,     0.64138,     0.64138,     0.64138,     0.64041,     0.64041,     0.64041,       0.625,       0.625,       0.625,       0.625,       0.625,       0.625,       0.625,       0.625,       0.625,     0.62013,     0.62013,     0.62013,     0.60952,     0.60952,     0.60952,\n",
              "            0.60883,     0.60883,     0.60883,     0.60559,     0.60559,     0.60559,     0.60559,     0.60559,     0.60559,     0.59878,     0.59878,     0.59878,     0.59878,     0.59878,     0.59878,      0.5976,      0.5976,      0.5976,      0.5976,      0.5976,      0.5976,     0.59172,     0.59172,\n",
              "            0.59172,     0.58092,     0.58092,     0.58092,     0.57183,     0.57183,     0.57183,     0.57183,     0.57183,     0.57183,     0.56354,     0.56354,     0.56354,     0.56011,     0.56011,     0.56011,     0.55978,     0.55978,     0.55978,     0.55946,     0.55946,     0.55946,     0.55914,\n",
              "            0.55914,     0.55914,     0.55585,     0.55585,     0.55585,     0.55263,     0.55263,     0.55263,     0.54103,     0.54103,     0.54103,     0.54082,     0.54082,     0.54082,     0.52723,     0.52723,     0.52723,     0.51566,     0.51566,     0.51566,     0.51313,     0.51313,     0.51313,\n",
              "            0.50939,     0.50939,     0.50939,     0.50939,     0.50939,     0.50939,     0.50935,     0.50935,     0.50935,     0.50345,     0.50345,     0.50345,     0.48889,     0.48889,     0.48889,     0.48578,     0.48578,     0.48578,     0.48578,     0.48578,     0.48578,      0.4696,      0.4696,\n",
              "             0.4696,      0.4696,      0.4696,     0.46584,     0.46584,     0.46584,     0.45418,     0.45418,     0.45418,     0.45418,     0.45418,     0.45418,     0.45418,     0.45418,     0.45418,     0.45079,     0.45079,     0.45079,     0.43396,     0.43396,     0.43396,     0.43258,     0.43258,\n",
              "            0.43258,     0.40418,     0.40418,     0.40418,     0.38235,     0.38235,     0.38235,     0.38235,     0.38235,     0.38235,     0.37342,     0.37342,     0.37342,     0.37342,     0.37342,     0.37342,     0.37147,     0.37147,     0.37147,     0.35417,     0.35417,     0.35417,     0.35044,\n",
              "            0.35044,     0.35044,     0.33241,     0.33241,     0.33241,     0.33104,     0.33104,     0.33104,     0.32836,     0.32836,     0.32836,     0.31765,     0.31765,     0.31765,     0.30964,     0.30964,     0.30964,     0.30511,     0.30511,     0.30511,     0.28839,     0.28839,     0.28839,\n",
              "             0.2877,      0.2877,      0.2877,      0.2877,      0.2877,      0.2877,     0.28522,     0.28522,     0.28522,     0.27027,     0.27027,     0.27027,     0.26277,     0.26277,     0.26277,     0.26277,     0.26277,     0.26277,     0.25605,     0.25605,     0.25605,     0.25605,     0.25605,\n",
              "            0.25605,     0.25475,     0.25475,     0.25475,     0.25347,     0.25347,     0.25347,        0.25,        0.25,        0.25,        0.25,        0.25,        0.25,     0.24251,     0.24251,     0.24251,     0.23985,     0.23985,     0.23985,      0.2377,      0.2377,      0.2377,     0.22664,\n",
              "            0.22664,     0.22664,     0.22421,     0.22421,     0.22421,     0.20046,     0.20046,     0.20046,      0.1997,      0.1997,      0.1997,      0.1953,      0.1953,      0.1953,     0.18263,     0.18263,     0.18263,     0.17713,     0.17713,     0.17713,     0.17222,     0.17222,     0.17222,\n",
              "            0.17187,     0.17187,     0.17187,     0.16626,     0.16626,     0.16626,     0.16171,     0.16171,     0.16171,     0.16135,     0.16135,     0.16135,     0.15657,     0.15657,     0.15657,     0.14793,     0.14793,     0.14793,     0.14271,     0.14271,     0.14271,     0.14068,     0.14068,\n",
              "            0.14068,     0.13654,     0.13654,     0.13654,     0.13295,     0.13295,     0.13295,     0.13295,     0.13295,     0.13295,     0.13015,     0.13015,     0.13015,     0.12578,     0.12578,     0.12578,     0.12315,     0.12315,     0.12315,     0.11755,     0.11755,     0.11755,     0.11377,\n",
              "            0.11377,     0.11377,     0.10325,     0.10325,     0.10325,    0.092105,    0.092105,    0.092105,    0.091632,    0.091632,    0.091632,    0.088352,    0.088352,    0.088352,    0.082645,    0.082645,    0.082645,    0.070617,    0.070617,    0.070617,    0.070617,    0.070617,    0.070617,\n",
              "           0.062768,    0.062768,    0.062768,    0.060481,    0.060481,    0.060481,    0.057666,    0.057666,    0.057666,    0.057666,    0.057666,    0.057666,    0.055743,    0.055743,    0.055743,     0.05353,     0.05353,     0.05353,    0.051419,    0.051419,    0.051419,    0.048765,    0.048765,\n",
              "           0.048765,    0.046465,    0.046465,    0.046465,    0.043397,    0.043397,    0.043397,    0.041444,    0.041444,    0.041444,    0.036813,    0.036813,    0.036813,    0.029429,    0.029429,    0.029429,    0.029277,    0.029277,    0.029277,    0.026035,    0.026035,    0.026035,    0.017801,\n",
              "           0.017801,    0.017801,    0.015095,    0.015095,    0.015095,    0.014157,    0.013966,    0.013775,    0.013583,    0.013392,    0.013201,    0.013009,    0.012818,    0.012627,    0.012435,    0.012244,    0.012053,    0.011861,     0.01167,    0.011479,    0.011287,    0.011096,    0.010905,\n",
              "           0.010714,    0.010522,    0.010331,     0.01014,   0.0099483,    0.009757,   0.0095657,   0.0093744,    0.009183,   0.0089917,   0.0088004,   0.0086091,   0.0084178,   0.0082265,   0.0080352,   0.0078439,   0.0076525,   0.0074612,   0.0072699,   0.0070786,   0.0068873,    0.006696,   0.0065047,\n",
              "          0.0063133,    0.006122,   0.0059307,   0.0057394,   0.0055481,   0.0053568,   0.0051655,   0.0049742,   0.0047828,   0.0045915,   0.0044002,   0.0042089,   0.0040176,   0.0038263,    0.003635,   0.0034436,   0.0032523,    0.003061,   0.0028697,   0.0026784,   0.0024871,   0.0022958,   0.0021044,\n",
              "          0.0019131,   0.0017218,   0.0015305,   0.0013392,   0.0011479,  0.00095657,  0.00076525,  0.00057394,  0.00038263,  0.00019131,           0]]), 'Recall', 'Precision'], [array([          0,    0.001001,    0.002002,    0.003003,    0.004004,    0.005005,    0.006006,    0.007007,    0.008008,    0.009009,     0.01001,    0.011011,    0.012012,    0.013013,    0.014014,    0.015015,    0.016016,    0.017017,    0.018018,    0.019019,     0.02002,    0.021021,    0.022022,    0.023023,\n",
              "          0.024024,    0.025025,    0.026026,    0.027027,    0.028028,    0.029029,     0.03003,    0.031031,    0.032032,    0.033033,    0.034034,    0.035035,    0.036036,    0.037037,    0.038038,    0.039039,     0.04004,    0.041041,    0.042042,    0.043043,    0.044044,    0.045045,    0.046046,    0.047047,\n",
              "          0.048048,    0.049049,     0.05005,    0.051051,    0.052052,    0.053053,    0.054054,    0.055055,    0.056056,    0.057057,    0.058058,    0.059059,     0.06006,    0.061061,    0.062062,    0.063063,    0.064064,    0.065065,    0.066066,    0.067067,    0.068068,    0.069069,     0.07007,    0.071071,\n",
              "          0.072072,    0.073073,    0.074074,    0.075075,    0.076076,    0.077077,    0.078078,    0.079079,     0.08008,    0.081081,    0.082082,    0.083083,    0.084084,    0.085085,    0.086086,    0.087087,    0.088088,    0.089089,     0.09009,    0.091091,    0.092092,    0.093093,    0.094094,    0.095095,\n",
              "          0.096096,    0.097097,    0.098098,    0.099099,      0.1001,      0.1011,      0.1021,      0.1031,      0.1041,     0.10511,     0.10611,     0.10711,     0.10811,     0.10911,     0.11011,     0.11111,     0.11211,     0.11311,     0.11411,     0.11512,     0.11612,     0.11712,     0.11812,     0.11912,\n",
              "           0.12012,     0.12112,     0.12212,     0.12312,     0.12412,     0.12513,     0.12613,     0.12713,     0.12813,     0.12913,     0.13013,     0.13113,     0.13213,     0.13313,     0.13413,     0.13514,     0.13614,     0.13714,     0.13814,     0.13914,     0.14014,     0.14114,     0.14214,     0.14314,\n",
              "           0.14414,     0.14515,     0.14615,     0.14715,     0.14815,     0.14915,     0.15015,     0.15115,     0.15215,     0.15315,     0.15415,     0.15516,     0.15616,     0.15716,     0.15816,     0.15916,     0.16016,     0.16116,     0.16216,     0.16316,     0.16416,     0.16517,     0.16617,     0.16717,\n",
              "           0.16817,     0.16917,     0.17017,     0.17117,     0.17217,     0.17317,     0.17417,     0.17518,     0.17618,     0.17718,     0.17818,     0.17918,     0.18018,     0.18118,     0.18218,     0.18318,     0.18418,     0.18519,     0.18619,     0.18719,     0.18819,     0.18919,     0.19019,     0.19119,\n",
              "           0.19219,     0.19319,     0.19419,      0.1952,      0.1962,      0.1972,      0.1982,      0.1992,      0.2002,      0.2012,      0.2022,      0.2032,      0.2042,     0.20521,     0.20621,     0.20721,     0.20821,     0.20921,     0.21021,     0.21121,     0.21221,     0.21321,     0.21421,     0.21522,\n",
              "           0.21622,     0.21722,     0.21822,     0.21922,     0.22022,     0.22122,     0.22222,     0.22322,     0.22422,     0.22523,     0.22623,     0.22723,     0.22823,     0.22923,     0.23023,     0.23123,     0.23223,     0.23323,     0.23423,     0.23524,     0.23624,     0.23724,     0.23824,     0.23924,\n",
              "           0.24024,     0.24124,     0.24224,     0.24324,     0.24424,     0.24525,     0.24625,     0.24725,     0.24825,     0.24925,     0.25025,     0.25125,     0.25225,     0.25325,     0.25425,     0.25526,     0.25626,     0.25726,     0.25826,     0.25926,     0.26026,     0.26126,     0.26226,     0.26326,\n",
              "           0.26426,     0.26527,     0.26627,     0.26727,     0.26827,     0.26927,     0.27027,     0.27127,     0.27227,     0.27327,     0.27427,     0.27528,     0.27628,     0.27728,     0.27828,     0.27928,     0.28028,     0.28128,     0.28228,     0.28328,     0.28428,     0.28529,     0.28629,     0.28729,\n",
              "           0.28829,     0.28929,     0.29029,     0.29129,     0.29229,     0.29329,     0.29429,      0.2953,      0.2963,      0.2973,      0.2983,      0.2993,      0.3003,      0.3013,      0.3023,      0.3033,      0.3043,     0.30531,     0.30631,     0.30731,     0.30831,     0.30931,     0.31031,     0.31131,\n",
              "           0.31231,     0.31331,     0.31431,     0.31532,     0.31632,     0.31732,     0.31832,     0.31932,     0.32032,     0.32132,     0.32232,     0.32332,     0.32432,     0.32533,     0.32633,     0.32733,     0.32833,     0.32933,     0.33033,     0.33133,     0.33233,     0.33333,     0.33433,     0.33534,\n",
              "           0.33634,     0.33734,     0.33834,     0.33934,     0.34034,     0.34134,     0.34234,     0.34334,     0.34434,     0.34535,     0.34635,     0.34735,     0.34835,     0.34935,     0.35035,     0.35135,     0.35235,     0.35335,     0.35435,     0.35536,     0.35636,     0.35736,     0.35836,     0.35936,\n",
              "           0.36036,     0.36136,     0.36236,     0.36336,     0.36436,     0.36537,     0.36637,     0.36737,     0.36837,     0.36937,     0.37037,     0.37137,     0.37237,     0.37337,     0.37437,     0.37538,     0.37638,     0.37738,     0.37838,     0.37938,     0.38038,     0.38138,     0.38238,     0.38338,\n",
              "           0.38438,     0.38539,     0.38639,     0.38739,     0.38839,     0.38939,     0.39039,     0.39139,     0.39239,     0.39339,     0.39439,      0.3954,      0.3964,      0.3974,      0.3984,      0.3994,      0.4004,      0.4014,      0.4024,      0.4034,      0.4044,     0.40541,     0.40641,     0.40741,\n",
              "           0.40841,     0.40941,     0.41041,     0.41141,     0.41241,     0.41341,     0.41441,     0.41542,     0.41642,     0.41742,     0.41842,     0.41942,     0.42042,     0.42142,     0.42242,     0.42342,     0.42442,     0.42543,     0.42643,     0.42743,     0.42843,     0.42943,     0.43043,     0.43143,\n",
              "           0.43243,     0.43343,     0.43443,     0.43544,     0.43644,     0.43744,     0.43844,     0.43944,     0.44044,     0.44144,     0.44244,     0.44344,     0.44444,     0.44545,     0.44645,     0.44745,     0.44845,     0.44945,     0.45045,     0.45145,     0.45245,     0.45345,     0.45445,     0.45546,\n",
              "           0.45646,     0.45746,     0.45846,     0.45946,     0.46046,     0.46146,     0.46246,     0.46346,     0.46446,     0.46547,     0.46647,     0.46747,     0.46847,     0.46947,     0.47047,     0.47147,     0.47247,     0.47347,     0.47447,     0.47548,     0.47648,     0.47748,     0.47848,     0.47948,\n",
              "           0.48048,     0.48148,     0.48248,     0.48348,     0.48448,     0.48549,     0.48649,     0.48749,     0.48849,     0.48949,     0.49049,     0.49149,     0.49249,     0.49349,     0.49449,      0.4955,      0.4965,      0.4975,      0.4985,      0.4995,      0.5005,      0.5015,      0.5025,      0.5035,\n",
              "            0.5045,     0.50551,     0.50651,     0.50751,     0.50851,     0.50951,     0.51051,     0.51151,     0.51251,     0.51351,     0.51451,     0.51552,     0.51652,     0.51752,     0.51852,     0.51952,     0.52052,     0.52152,     0.52252,     0.52352,     0.52452,     0.52553,     0.52653,     0.52753,\n",
              "           0.52853,     0.52953,     0.53053,     0.53153,     0.53253,     0.53353,     0.53453,     0.53554,     0.53654,     0.53754,     0.53854,     0.53954,     0.54054,     0.54154,     0.54254,     0.54354,     0.54454,     0.54555,     0.54655,     0.54755,     0.54855,     0.54955,     0.55055,     0.55155,\n",
              "           0.55255,     0.55355,     0.55455,     0.55556,     0.55656,     0.55756,     0.55856,     0.55956,     0.56056,     0.56156,     0.56256,     0.56356,     0.56456,     0.56557,     0.56657,     0.56757,     0.56857,     0.56957,     0.57057,     0.57157,     0.57257,     0.57357,     0.57457,     0.57558,\n",
              "           0.57658,     0.57758,     0.57858,     0.57958,     0.58058,     0.58158,     0.58258,     0.58358,     0.58458,     0.58559,     0.58659,     0.58759,     0.58859,     0.58959,     0.59059,     0.59159,     0.59259,     0.59359,     0.59459,      0.5956,      0.5966,      0.5976,      0.5986,      0.5996,\n",
              "            0.6006,      0.6016,      0.6026,      0.6036,      0.6046,     0.60561,     0.60661,     0.60761,     0.60861,     0.60961,     0.61061,     0.61161,     0.61261,     0.61361,     0.61461,     0.61562,     0.61662,     0.61762,     0.61862,     0.61962,     0.62062,     0.62162,     0.62262,     0.62362,\n",
              "           0.62462,     0.62563,     0.62663,     0.62763,     0.62863,     0.62963,     0.63063,     0.63163,     0.63263,     0.63363,     0.63463,     0.63564,     0.63664,     0.63764,     0.63864,     0.63964,     0.64064,     0.64164,     0.64264,     0.64364,     0.64464,     0.64565,     0.64665,     0.64765,\n",
              "           0.64865,     0.64965,     0.65065,     0.65165,     0.65265,     0.65365,     0.65465,     0.65566,     0.65666,     0.65766,     0.65866,     0.65966,     0.66066,     0.66166,     0.66266,     0.66366,     0.66466,     0.66567,     0.66667,     0.66767,     0.66867,     0.66967,     0.67067,     0.67167,\n",
              "           0.67267,     0.67367,     0.67467,     0.67568,     0.67668,     0.67768,     0.67868,     0.67968,     0.68068,     0.68168,     0.68268,     0.68368,     0.68468,     0.68569,     0.68669,     0.68769,     0.68869,     0.68969,     0.69069,     0.69169,     0.69269,     0.69369,     0.69469,      0.6957,\n",
              "            0.6967,      0.6977,      0.6987,      0.6997,      0.7007,      0.7017,      0.7027,      0.7037,      0.7047,     0.70571,     0.70671,     0.70771,     0.70871,     0.70971,     0.71071,     0.71171,     0.71271,     0.71371,     0.71471,     0.71572,     0.71672,     0.71772,     0.71872,     0.71972,\n",
              "           0.72072,     0.72172,     0.72272,     0.72372,     0.72472,     0.72573,     0.72673,     0.72773,     0.72873,     0.72973,     0.73073,     0.73173,     0.73273,     0.73373,     0.73473,     0.73574,     0.73674,     0.73774,     0.73874,     0.73974,     0.74074,     0.74174,     0.74274,     0.74374,\n",
              "           0.74474,     0.74575,     0.74675,     0.74775,     0.74875,     0.74975,     0.75075,     0.75175,     0.75275,     0.75375,     0.75475,     0.75576,     0.75676,     0.75776,     0.75876,     0.75976,     0.76076,     0.76176,     0.76276,     0.76376,     0.76476,     0.76577,     0.76677,     0.76777,\n",
              "           0.76877,     0.76977,     0.77077,     0.77177,     0.77277,     0.77377,     0.77477,     0.77578,     0.77678,     0.77778,     0.77878,     0.77978,     0.78078,     0.78178,     0.78278,     0.78378,     0.78478,     0.78579,     0.78679,     0.78779,     0.78879,     0.78979,     0.79079,     0.79179,\n",
              "           0.79279,     0.79379,     0.79479,      0.7958,      0.7968,      0.7978,      0.7988,      0.7998,      0.8008,      0.8018,      0.8028,      0.8038,      0.8048,     0.80581,     0.80681,     0.80781,     0.80881,     0.80981,     0.81081,     0.81181,     0.81281,     0.81381,     0.81481,     0.81582,\n",
              "           0.81682,     0.81782,     0.81882,     0.81982,     0.82082,     0.82182,     0.82282,     0.82382,     0.82482,     0.82583,     0.82683,     0.82783,     0.82883,     0.82983,     0.83083,     0.83183,     0.83283,     0.83383,     0.83483,     0.83584,     0.83684,     0.83784,     0.83884,     0.83984,\n",
              "           0.84084,     0.84184,     0.84284,     0.84384,     0.84484,     0.84585,     0.84685,     0.84785,     0.84885,     0.84985,     0.85085,     0.85185,     0.85285,     0.85385,     0.85485,     0.85586,     0.85686,     0.85786,     0.85886,     0.85986,     0.86086,     0.86186,     0.86286,     0.86386,\n",
              "           0.86486,     0.86587,     0.86687,     0.86787,     0.86887,     0.86987,     0.87087,     0.87187,     0.87287,     0.87387,     0.87487,     0.87588,     0.87688,     0.87788,     0.87888,     0.87988,     0.88088,     0.88188,     0.88288,     0.88388,     0.88488,     0.88589,     0.88689,     0.88789,\n",
              "           0.88889,     0.88989,     0.89089,     0.89189,     0.89289,     0.89389,     0.89489,      0.8959,      0.8969,      0.8979,      0.8989,      0.8999,      0.9009,      0.9019,      0.9029,      0.9039,      0.9049,     0.90591,     0.90691,     0.90791,     0.90891,     0.90991,     0.91091,     0.91191,\n",
              "           0.91291,     0.91391,     0.91491,     0.91592,     0.91692,     0.91792,     0.91892,     0.91992,     0.92092,     0.92192,     0.92292,     0.92392,     0.92492,     0.92593,     0.92693,     0.92793,     0.92893,     0.92993,     0.93093,     0.93193,     0.93293,     0.93393,     0.93493,     0.93594,\n",
              "           0.93694,     0.93794,     0.93894,     0.93994,     0.94094,     0.94194,     0.94294,     0.94394,     0.94494,     0.94595,     0.94695,     0.94795,     0.94895,     0.94995,     0.95095,     0.95195,     0.95295,     0.95395,     0.95495,     0.95596,     0.95696,     0.95796,     0.95896,     0.95996,\n",
              "           0.96096,     0.96196,     0.96296,     0.96396,     0.96496,     0.96597,     0.96697,     0.96797,     0.96897,     0.96997,     0.97097,     0.97197,     0.97297,     0.97397,     0.97497,     0.97598,     0.97698,     0.97798,     0.97898,     0.97998,     0.98098,     0.98198,     0.98298,     0.98398,\n",
              "           0.98498,     0.98599,     0.98699,     0.98799,     0.98899,     0.98999,     0.99099,     0.99199,     0.99299,     0.99399,     0.99499,       0.996,       0.997,       0.998,       0.999,           1]), array([[   0.028175,    0.028175,     0.02845,    0.032423,    0.050585,     0.07376,     0.09166,     0.10699,     0.12009,     0.13145,     0.14396,     0.15469,     0.16533,      0.1747,     0.18549,     0.19401,     0.20213,     0.20983,      0.2165,     0.22445,     0.22843,     0.23438,     0.24123,\n",
              "            0.24853,     0.25468,     0.26166,     0.26783,     0.27268,     0.27725,     0.28297,     0.28907,     0.29327,     0.29694,     0.30135,     0.30611,     0.31304,      0.3165,      0.3203,     0.32396,     0.32829,     0.33325,     0.33965,     0.34386,     0.34889,     0.35352,     0.35762,\n",
              "            0.36333,     0.36548,     0.36726,     0.36965,     0.37324,     0.37736,     0.37788,     0.37981,     0.38105,     0.38248,     0.38463,     0.38798,     0.38784,     0.39133,     0.39508,     0.39599,     0.39866,     0.40164,     0.40515,      0.4087,     0.41118,     0.41297,     0.41243,\n",
              "            0.41356,     0.41632,     0.41957,     0.42313,     0.42539,     0.42847,     0.43066,      0.4318,     0.43375,     0.43589,     0.43871,     0.44126,     0.44126,     0.44484,     0.44784,     0.45037,     0.45155,     0.45067,     0.45298,     0.45343,     0.45516,     0.45918,     0.46187,\n",
              "            0.46351,     0.46481,     0.46738,     0.47014,     0.47009,     0.47075,      0.4726,     0.47394,     0.47696,     0.47729,     0.47878,     0.48156,     0.48283,      0.4842,     0.48476,     0.48647,     0.48647,     0.48714,     0.48801,     0.48926,     0.49173,      0.4926,     0.49362,\n",
              "            0.49302,     0.49383,     0.49567,     0.49672,     0.49759,     0.49872,     0.50128,     0.50229,     0.50338,     0.50463,     0.50677,     0.50844,     0.51085,     0.51228,     0.51316,     0.51414,     0.51498,     0.51609,     0.51876,     0.51976,     0.52008,     0.52148,     0.52269,\n",
              "            0.52524,     0.52767,     0.52952,     0.53062,     0.53156,     0.53072,     0.53096,      0.5318,     0.53136,     0.53456,     0.53703,     0.53781,     0.53835,     0.54019,      0.5408,     0.54121,     0.54205,     0.54246,     0.54384,     0.54356,     0.54498,     0.54379,     0.54246,\n",
              "            0.54214,     0.54204,     0.54376,     0.54438,     0.54553,     0.54682,     0.54804,     0.54951,     0.55126,       0.552,     0.54933,     0.55052,     0.55137,     0.55345,     0.55461,      0.5564,     0.55681,     0.55755,     0.55968,     0.56113,     0.55963,     0.55881,     0.55999,\n",
              "            0.56024,     0.56048,     0.56026,      0.5616,     0.56279,     0.56382,     0.56431,     0.56651,     0.56938,     0.56776,     0.56836,     0.56897,     0.56958,     0.57045,     0.57113,       0.572,     0.56973,     0.56818,     0.56752,     0.56808,      0.5687,     0.56984,     0.57095,\n",
              "            0.56952,     0.57075,      0.5712,     0.57055,      0.5699,     0.57111,     0.57151,     0.57228,     0.57502,     0.57525,     0.57549,     0.57579,     0.57637,     0.57584,     0.57787,     0.57827,     0.58024,     0.58063,     0.58136,     0.58368,     0.58268,       0.581,      0.5838,\n",
              "            0.58455,     0.58532,     0.58652,     0.58764,     0.58654,     0.58796,     0.58836,     0.58858,     0.58747,     0.58874,     0.58916,      0.5886,     0.58803,     0.58747,     0.58673,     0.58532,     0.58546,     0.58467,     0.58517,     0.58511,     0.58433,     0.58464,     0.58496,\n",
              "            0.58602,     0.58621,      0.5864,     0.58659,     0.58719,     0.58836,     0.58898,     0.58869,      0.5884,     0.58811,     0.58782,     0.58753,     0.58724,     0.58628,     0.58522,     0.58611,     0.58661,     0.58715,     0.58948,     0.59046,     0.59097,     0.59062,     0.58967,\n",
              "            0.58921,     0.58948,     0.58976,     0.59011,      0.5907,     0.59328,     0.59395,     0.59475,     0.59397,     0.59352,     0.59411,     0.59463,     0.59635,     0.59464,     0.59265,     0.59298,     0.59331,     0.59348,     0.59362,     0.59376,     0.59389,     0.59403,     0.59416,\n",
              "            0.59361,     0.59136,     0.59282,     0.59382,     0.59408,     0.59435,     0.59404,     0.59279,     0.59041,     0.59056,     0.59093,     0.59249,     0.59247,     0.59159,     0.59087,     0.59016,     0.59239,     0.59277,     0.59314,     0.59498,     0.59355,     0.59485,     0.59223,\n",
              "            0.59142,     0.59012,     0.59187,     0.59278,     0.59333,     0.59398,     0.59475,     0.59553,     0.59542,     0.59585,     0.59362,      0.5927,     0.59177,     0.59183,     0.59204,     0.59226,     0.59248,      0.5915,     0.59071,     0.59134,     0.59157,      0.5918,     0.59203,\n",
              "            0.59322,     0.59341,     0.59359,     0.59378,     0.59397,     0.59512,     0.59449,     0.59387,     0.59324,     0.59265,     0.59213,     0.59161,     0.59108,     0.59056,     0.59343,     0.59441,     0.59305,     0.59241,     0.59352,     0.59564,     0.59549,     0.59462,     0.59375,\n",
              "            0.59464,     0.59765,     0.59703,     0.59639,     0.59575,     0.59551,     0.59609,     0.59557,     0.59436,     0.59403,     0.59265,     0.59204,     0.59147,      0.5909,     0.59033,     0.58962,     0.58811,     0.58574,     0.58052,     0.58188,     0.58255,     0.58306,     0.58076,\n",
              "            0.58094,     0.58111,     0.58129,     0.58147,     0.58165,     0.58217,      0.5832,      0.5832,     0.58195,      0.5806,     0.57916,     0.57906,     0.57932,     0.57958,     0.57983,     0.57679,     0.57611,     0.57544,     0.56934,     0.56751,     0.56785,     0.56819,      0.5682,\n",
              "            0.56751,     0.56682,     0.56613,     0.56547,     0.56483,     0.56418,     0.56353,     0.56238,     0.55977,     0.55872,     0.55803,     0.55733,     0.55888,     0.55924,     0.55402,     0.55167,     0.55033,       0.549,     0.54766,     0.54688,     0.54725,     0.54762,     0.54797,\n",
              "             0.5483,     0.54864,     0.54777,     0.54643,     0.54404,     0.54294,     0.54227,     0.54159,     0.54091,     0.54003,     0.53912,     0.53822,     0.53648,     0.53745,     0.53483,     0.53561,     0.53044,     0.53101,     0.53144,     0.53164,     0.53184,     0.53205,     0.53225,\n",
              "            0.53252,     0.53285,     0.53319,     0.53119,      0.5319,     0.53241,     0.53078,     0.53008,     0.53042,     0.53075,      0.5316,     0.53223,     0.53274,     0.53053,     0.52888,     0.52746,     0.52921,     0.53125,     0.52862,     0.52575,      0.5267,     0.52526,     0.52396,\n",
              "            0.52183,     0.51934,     0.51698,     0.51435,     0.51337,     0.51238,     0.51171,     0.51205,     0.51239,     0.50882,     0.50815,     0.50775,      0.5056,     0.50485,     0.50409,     0.50334,     0.50223,     0.50072,     0.49921,     0.49769,     0.49956,      0.4988,     0.49803,\n",
              "            0.49727,      0.4971,     0.49723,     0.49736,     0.49748,     0.49761,     0.49774,     0.49786,     0.49799,     0.49889,     0.49832,     0.49755,     0.49678,     0.49601,      0.4975,       0.498,     0.49821,     0.49841,     0.49862,     0.49882,     0.49905,     0.49939,     0.49974,\n",
              "            0.49964,     0.49809,     0.49668,     0.49564,      0.4946,     0.49429,     0.49307,     0.49358,     0.49253,     0.49059,     0.49014,     0.48969,     0.48924,     0.48878,     0.48833,     0.48788,     0.48835,     0.48937,     0.48864,     0.48704,     0.48544,     0.48384,       0.481,\n",
              "            0.47905,     0.47743,     0.47543,     0.47359,     0.47195,     0.47194,     0.47208,     0.47221,     0.47235,     0.47248,     0.47262,     0.47275,     0.47341,     0.47528,     0.47445,     0.47363,      0.4728,     0.47138,     0.46973,     0.46961,     0.46995,     0.47029,     0.46993,\n",
              "            0.46827,     0.46659,     0.46492,     0.46403,     0.46319,     0.46235,     0.46151,      0.4609,     0.46029,     0.45967,     0.45906,     0.45845,     0.45892,     0.45958,     0.46009,     0.45562,     0.45391,     0.45314,     0.45262,     0.45209,     0.45156,     0.45103,     0.45051,\n",
              "             0.4497,     0.44855,      0.4474,     0.44625,     0.44509,     0.44394,      0.4432,     0.44274,     0.44227,     0.44181,     0.44135,     0.44088,     0.44042,      0.4391,     0.43698,     0.43738,      0.4366,     0.43582,     0.43504,     0.43426,     0.43089,     0.43219,     0.43262,\n",
              "            0.42906,     0.42213,     0.42069,     0.41925,     0.41758,     0.41577,     0.41273,     0.41229,     0.41268,     0.41286,     0.41303,      0.4132,     0.41337,     0.41383,     0.41402,     0.41297,     0.41192,     0.41087,     0.41176,     0.41055,     0.40932,     0.40893,     0.40646,\n",
              "            0.40472,     0.40348,     0.40223,      0.3993,     0.39832,     0.39852,     0.39873,     0.39894,     0.39887,     0.39819,      0.3975,     0.39681,     0.39613,     0.39544,     0.39127,     0.39032,     0.38937,     0.38842,     0.38715,     0.38562,     0.38382,     0.38064,     0.38122,\n",
              "            0.38011,     0.37901,      0.3779,     0.37776,     0.37794,     0.37812,      0.3783,     0.37848,     0.37512,     0.37393,     0.37306,     0.37219,     0.37132,      0.3717,     0.36776,     0.36412,     0.36081,     0.35814,     0.35688,     0.35646,     0.35603,     0.35561,     0.35519,\n",
              "            0.35476,     0.35434,     0.35392,     0.35349,     0.35178,     0.34701,     0.34628,     0.34643,     0.34657,     0.34671,     0.34685,     0.34682,     0.34245,     0.33803,     0.33638,     0.33093,     0.33117,     0.33141,     0.33164,      0.3305,     0.32882,     0.32643,     0.32301,\n",
              "            0.32132,     0.31963,     0.31494,     0.31409,     0.31324,     0.31239,     0.31153,     0.30895,     0.30541,     0.30268,     0.30196,     0.30124,     0.30052,      0.2998,     0.29908,     0.29857,     0.29888,     0.29918,     0.29895,     0.29855,     0.29815,     0.29776,     0.29736,\n",
              "            0.29697,     0.29657,     0.29617,     0.29578,     0.29538,     0.29502,     0.29553,     0.29518,      0.2942,     0.29323,     0.29225,     0.29127,     0.29029,     0.28931,     0.28833,     0.28735,     0.28627,     0.28516,     0.28405,     0.28294,     0.27858,     0.27882,     0.27906,\n",
              "            0.27775,     0.27464,     0.27004,     0.26934,     0.26865,     0.26795,     0.26725,     0.26655,     0.26584,     0.26508,     0.26432,     0.26356,      0.2628,     0.26204,     0.25668,     0.25553,     0.25438,     0.25323,     0.25178,     0.24993,     0.24807,     0.24833,     0.24859,\n",
              "            0.24612,     0.24366,     0.24281,     0.24196,     0.24111,     0.24025,     0.23757,     0.23384,     0.23226,     0.23068,     0.23044,     0.23053,     0.23062,     0.23071,     0.23079,     0.23088,     0.23097,     0.22982,     0.22862,     0.22743,     0.22566,     0.21884,      0.2162,\n",
              "            0.21499,     0.21378,     0.21256,     0.20692,     0.20447,     0.20215,     0.20018,     0.19821,     0.19514,     0.19183,     0.18851,     0.18368,     0.18097,     0.17845,     0.17346,     0.16721,     0.16593,     0.16465,     0.16343,     0.16279,     0.16214,      0.1615,     0.16086,\n",
              "            0.16022,     0.15957,     0.15893,     0.15826,     0.15752,     0.15678,     0.15604,      0.1553,     0.15456,     0.15382,     0.15263,      0.1509,     0.14916,     0.14724,     0.14515,     0.14316,     0.14221,     0.14125,      0.1403,     0.13934,     0.13838,     0.13841,     0.13276,\n",
              "              0.132,     0.13124,     0.13048,     0.12972,     0.12896,     0.12819,     0.12566,     0.12298,     0.11941,     0.11627,     0.11356,     0.11193,     0.11115,     0.11037,     0.10959,     0.10881,     0.10803,     0.10725,     0.10712,     0.10722,     0.10733,     0.10441,     0.10152,\n",
              "            0.10014,    0.098755,    0.097372,    0.094171,    0.086021,    0.082072,    0.079511,    0.078099,    0.076685,     0.07527,    0.073852,    0.072431,    0.071009,    0.069585,    0.069208,    0.069268,    0.069325,    0.069198,    0.068626,    0.068053,    0.067481,    0.066907,    0.066334,\n",
              "            0.06576,    0.065186,    0.064611,    0.064036,    0.061717,    0.058094,    0.057451,    0.056807,    0.056163,    0.055519,    0.054874,    0.054229,    0.053583,    0.052937,    0.051632,    0.048715,    0.046691,    0.046419,    0.046146,    0.045874,    0.045601,    0.045329,    0.045056,\n",
              "           0.044783,     0.04451,    0.044237,    0.043964,    0.043691,    0.043418,    0.043145,    0.042871,    0.042598,    0.042325,    0.042051,    0.041777,    0.041504,     0.04123,    0.038908,    0.034142,    0.031173,    0.029298,    0.028839,    0.028381,    0.027922,    0.027463,    0.027003,\n",
              "           0.026544,    0.026084,    0.025624,    0.025164,    0.024703,    0.024243,    0.023782,    0.021404,    0.018396,    0.017058,     0.01613,      0.0152,     0.01427,    0.013338,    0.012406,    0.011749,    0.011412,    0.011075,    0.010737,      0.0104,    0.010063,   0.0097249,   0.0093872,\n",
              "          0.0090493,   0.0087113,   0.0083732,    0.008035,   0.0076967,   0.0073583,   0.0070197,   0.0066811,   0.0063423,   0.0060034,           0,           0,           0,           0,           0,           0,           0,           0,           0,           0,           0,           0,           0,\n",
              "                  0,           0,           0,           0,           0,           0,           0,           0,           0,           0,           0]]), 'Confidence', 'F1'], [array([          0,    0.001001,    0.002002,    0.003003,    0.004004,    0.005005,    0.006006,    0.007007,    0.008008,    0.009009,     0.01001,    0.011011,    0.012012,    0.013013,    0.014014,    0.015015,    0.016016,    0.017017,    0.018018,    0.019019,     0.02002,    0.021021,    0.022022,    0.023023,\n",
              "          0.024024,    0.025025,    0.026026,    0.027027,    0.028028,    0.029029,     0.03003,    0.031031,    0.032032,    0.033033,    0.034034,    0.035035,    0.036036,    0.037037,    0.038038,    0.039039,     0.04004,    0.041041,    0.042042,    0.043043,    0.044044,    0.045045,    0.046046,    0.047047,\n",
              "          0.048048,    0.049049,     0.05005,    0.051051,    0.052052,    0.053053,    0.054054,    0.055055,    0.056056,    0.057057,    0.058058,    0.059059,     0.06006,    0.061061,    0.062062,    0.063063,    0.064064,    0.065065,    0.066066,    0.067067,    0.068068,    0.069069,     0.07007,    0.071071,\n",
              "          0.072072,    0.073073,    0.074074,    0.075075,    0.076076,    0.077077,    0.078078,    0.079079,     0.08008,    0.081081,    0.082082,    0.083083,    0.084084,    0.085085,    0.086086,    0.087087,    0.088088,    0.089089,     0.09009,    0.091091,    0.092092,    0.093093,    0.094094,    0.095095,\n",
              "          0.096096,    0.097097,    0.098098,    0.099099,      0.1001,      0.1011,      0.1021,      0.1031,      0.1041,     0.10511,     0.10611,     0.10711,     0.10811,     0.10911,     0.11011,     0.11111,     0.11211,     0.11311,     0.11411,     0.11512,     0.11612,     0.11712,     0.11812,     0.11912,\n",
              "           0.12012,     0.12112,     0.12212,     0.12312,     0.12412,     0.12513,     0.12613,     0.12713,     0.12813,     0.12913,     0.13013,     0.13113,     0.13213,     0.13313,     0.13413,     0.13514,     0.13614,     0.13714,     0.13814,     0.13914,     0.14014,     0.14114,     0.14214,     0.14314,\n",
              "           0.14414,     0.14515,     0.14615,     0.14715,     0.14815,     0.14915,     0.15015,     0.15115,     0.15215,     0.15315,     0.15415,     0.15516,     0.15616,     0.15716,     0.15816,     0.15916,     0.16016,     0.16116,     0.16216,     0.16316,     0.16416,     0.16517,     0.16617,     0.16717,\n",
              "           0.16817,     0.16917,     0.17017,     0.17117,     0.17217,     0.17317,     0.17417,     0.17518,     0.17618,     0.17718,     0.17818,     0.17918,     0.18018,     0.18118,     0.18218,     0.18318,     0.18418,     0.18519,     0.18619,     0.18719,     0.18819,     0.18919,     0.19019,     0.19119,\n",
              "           0.19219,     0.19319,     0.19419,      0.1952,      0.1962,      0.1972,      0.1982,      0.1992,      0.2002,      0.2012,      0.2022,      0.2032,      0.2042,     0.20521,     0.20621,     0.20721,     0.20821,     0.20921,     0.21021,     0.21121,     0.21221,     0.21321,     0.21421,     0.21522,\n",
              "           0.21622,     0.21722,     0.21822,     0.21922,     0.22022,     0.22122,     0.22222,     0.22322,     0.22422,     0.22523,     0.22623,     0.22723,     0.22823,     0.22923,     0.23023,     0.23123,     0.23223,     0.23323,     0.23423,     0.23524,     0.23624,     0.23724,     0.23824,     0.23924,\n",
              "           0.24024,     0.24124,     0.24224,     0.24324,     0.24424,     0.24525,     0.24625,     0.24725,     0.24825,     0.24925,     0.25025,     0.25125,     0.25225,     0.25325,     0.25425,     0.25526,     0.25626,     0.25726,     0.25826,     0.25926,     0.26026,     0.26126,     0.26226,     0.26326,\n",
              "           0.26426,     0.26527,     0.26627,     0.26727,     0.26827,     0.26927,     0.27027,     0.27127,     0.27227,     0.27327,     0.27427,     0.27528,     0.27628,     0.27728,     0.27828,     0.27928,     0.28028,     0.28128,     0.28228,     0.28328,     0.28428,     0.28529,     0.28629,     0.28729,\n",
              "           0.28829,     0.28929,     0.29029,     0.29129,     0.29229,     0.29329,     0.29429,      0.2953,      0.2963,      0.2973,      0.2983,      0.2993,      0.3003,      0.3013,      0.3023,      0.3033,      0.3043,     0.30531,     0.30631,     0.30731,     0.30831,     0.30931,     0.31031,     0.31131,\n",
              "           0.31231,     0.31331,     0.31431,     0.31532,     0.31632,     0.31732,     0.31832,     0.31932,     0.32032,     0.32132,     0.32232,     0.32332,     0.32432,     0.32533,     0.32633,     0.32733,     0.32833,     0.32933,     0.33033,     0.33133,     0.33233,     0.33333,     0.33433,     0.33534,\n",
              "           0.33634,     0.33734,     0.33834,     0.33934,     0.34034,     0.34134,     0.34234,     0.34334,     0.34434,     0.34535,     0.34635,     0.34735,     0.34835,     0.34935,     0.35035,     0.35135,     0.35235,     0.35335,     0.35435,     0.35536,     0.35636,     0.35736,     0.35836,     0.35936,\n",
              "           0.36036,     0.36136,     0.36236,     0.36336,     0.36436,     0.36537,     0.36637,     0.36737,     0.36837,     0.36937,     0.37037,     0.37137,     0.37237,     0.37337,     0.37437,     0.37538,     0.37638,     0.37738,     0.37838,     0.37938,     0.38038,     0.38138,     0.38238,     0.38338,\n",
              "           0.38438,     0.38539,     0.38639,     0.38739,     0.38839,     0.38939,     0.39039,     0.39139,     0.39239,     0.39339,     0.39439,      0.3954,      0.3964,      0.3974,      0.3984,      0.3994,      0.4004,      0.4014,      0.4024,      0.4034,      0.4044,     0.40541,     0.40641,     0.40741,\n",
              "           0.40841,     0.40941,     0.41041,     0.41141,     0.41241,     0.41341,     0.41441,     0.41542,     0.41642,     0.41742,     0.41842,     0.41942,     0.42042,     0.42142,     0.42242,     0.42342,     0.42442,     0.42543,     0.42643,     0.42743,     0.42843,     0.42943,     0.43043,     0.43143,\n",
              "           0.43243,     0.43343,     0.43443,     0.43544,     0.43644,     0.43744,     0.43844,     0.43944,     0.44044,     0.44144,     0.44244,     0.44344,     0.44444,     0.44545,     0.44645,     0.44745,     0.44845,     0.44945,     0.45045,     0.45145,     0.45245,     0.45345,     0.45445,     0.45546,\n",
              "           0.45646,     0.45746,     0.45846,     0.45946,     0.46046,     0.46146,     0.46246,     0.46346,     0.46446,     0.46547,     0.46647,     0.46747,     0.46847,     0.46947,     0.47047,     0.47147,     0.47247,     0.47347,     0.47447,     0.47548,     0.47648,     0.47748,     0.47848,     0.47948,\n",
              "           0.48048,     0.48148,     0.48248,     0.48348,     0.48448,     0.48549,     0.48649,     0.48749,     0.48849,     0.48949,     0.49049,     0.49149,     0.49249,     0.49349,     0.49449,      0.4955,      0.4965,      0.4975,      0.4985,      0.4995,      0.5005,      0.5015,      0.5025,      0.5035,\n",
              "            0.5045,     0.50551,     0.50651,     0.50751,     0.50851,     0.50951,     0.51051,     0.51151,     0.51251,     0.51351,     0.51451,     0.51552,     0.51652,     0.51752,     0.51852,     0.51952,     0.52052,     0.52152,     0.52252,     0.52352,     0.52452,     0.52553,     0.52653,     0.52753,\n",
              "           0.52853,     0.52953,     0.53053,     0.53153,     0.53253,     0.53353,     0.53453,     0.53554,     0.53654,     0.53754,     0.53854,     0.53954,     0.54054,     0.54154,     0.54254,     0.54354,     0.54454,     0.54555,     0.54655,     0.54755,     0.54855,     0.54955,     0.55055,     0.55155,\n",
              "           0.55255,     0.55355,     0.55455,     0.55556,     0.55656,     0.55756,     0.55856,     0.55956,     0.56056,     0.56156,     0.56256,     0.56356,     0.56456,     0.56557,     0.56657,     0.56757,     0.56857,     0.56957,     0.57057,     0.57157,     0.57257,     0.57357,     0.57457,     0.57558,\n",
              "           0.57658,     0.57758,     0.57858,     0.57958,     0.58058,     0.58158,     0.58258,     0.58358,     0.58458,     0.58559,     0.58659,     0.58759,     0.58859,     0.58959,     0.59059,     0.59159,     0.59259,     0.59359,     0.59459,      0.5956,      0.5966,      0.5976,      0.5986,      0.5996,\n",
              "            0.6006,      0.6016,      0.6026,      0.6036,      0.6046,     0.60561,     0.60661,     0.60761,     0.60861,     0.60961,     0.61061,     0.61161,     0.61261,     0.61361,     0.61461,     0.61562,     0.61662,     0.61762,     0.61862,     0.61962,     0.62062,     0.62162,     0.62262,     0.62362,\n",
              "           0.62462,     0.62563,     0.62663,     0.62763,     0.62863,     0.62963,     0.63063,     0.63163,     0.63263,     0.63363,     0.63463,     0.63564,     0.63664,     0.63764,     0.63864,     0.63964,     0.64064,     0.64164,     0.64264,     0.64364,     0.64464,     0.64565,     0.64665,     0.64765,\n",
              "           0.64865,     0.64965,     0.65065,     0.65165,     0.65265,     0.65365,     0.65465,     0.65566,     0.65666,     0.65766,     0.65866,     0.65966,     0.66066,     0.66166,     0.66266,     0.66366,     0.66466,     0.66567,     0.66667,     0.66767,     0.66867,     0.66967,     0.67067,     0.67167,\n",
              "           0.67267,     0.67367,     0.67467,     0.67568,     0.67668,     0.67768,     0.67868,     0.67968,     0.68068,     0.68168,     0.68268,     0.68368,     0.68468,     0.68569,     0.68669,     0.68769,     0.68869,     0.68969,     0.69069,     0.69169,     0.69269,     0.69369,     0.69469,      0.6957,\n",
              "            0.6967,      0.6977,      0.6987,      0.6997,      0.7007,      0.7017,      0.7027,      0.7037,      0.7047,     0.70571,     0.70671,     0.70771,     0.70871,     0.70971,     0.71071,     0.71171,     0.71271,     0.71371,     0.71471,     0.71572,     0.71672,     0.71772,     0.71872,     0.71972,\n",
              "           0.72072,     0.72172,     0.72272,     0.72372,     0.72472,     0.72573,     0.72673,     0.72773,     0.72873,     0.72973,     0.73073,     0.73173,     0.73273,     0.73373,     0.73473,     0.73574,     0.73674,     0.73774,     0.73874,     0.73974,     0.74074,     0.74174,     0.74274,     0.74374,\n",
              "           0.74474,     0.74575,     0.74675,     0.74775,     0.74875,     0.74975,     0.75075,     0.75175,     0.75275,     0.75375,     0.75475,     0.75576,     0.75676,     0.75776,     0.75876,     0.75976,     0.76076,     0.76176,     0.76276,     0.76376,     0.76476,     0.76577,     0.76677,     0.76777,\n",
              "           0.76877,     0.76977,     0.77077,     0.77177,     0.77277,     0.77377,     0.77477,     0.77578,     0.77678,     0.77778,     0.77878,     0.77978,     0.78078,     0.78178,     0.78278,     0.78378,     0.78478,     0.78579,     0.78679,     0.78779,     0.78879,     0.78979,     0.79079,     0.79179,\n",
              "           0.79279,     0.79379,     0.79479,      0.7958,      0.7968,      0.7978,      0.7988,      0.7998,      0.8008,      0.8018,      0.8028,      0.8038,      0.8048,     0.80581,     0.80681,     0.80781,     0.80881,     0.80981,     0.81081,     0.81181,     0.81281,     0.81381,     0.81481,     0.81582,\n",
              "           0.81682,     0.81782,     0.81882,     0.81982,     0.82082,     0.82182,     0.82282,     0.82382,     0.82482,     0.82583,     0.82683,     0.82783,     0.82883,     0.82983,     0.83083,     0.83183,     0.83283,     0.83383,     0.83483,     0.83584,     0.83684,     0.83784,     0.83884,     0.83984,\n",
              "           0.84084,     0.84184,     0.84284,     0.84384,     0.84484,     0.84585,     0.84685,     0.84785,     0.84885,     0.84985,     0.85085,     0.85185,     0.85285,     0.85385,     0.85485,     0.85586,     0.85686,     0.85786,     0.85886,     0.85986,     0.86086,     0.86186,     0.86286,     0.86386,\n",
              "           0.86486,     0.86587,     0.86687,     0.86787,     0.86887,     0.86987,     0.87087,     0.87187,     0.87287,     0.87387,     0.87487,     0.87588,     0.87688,     0.87788,     0.87888,     0.87988,     0.88088,     0.88188,     0.88288,     0.88388,     0.88488,     0.88589,     0.88689,     0.88789,\n",
              "           0.88889,     0.88989,     0.89089,     0.89189,     0.89289,     0.89389,     0.89489,      0.8959,      0.8969,      0.8979,      0.8989,      0.8999,      0.9009,      0.9019,      0.9029,      0.9039,      0.9049,     0.90591,     0.90691,     0.90791,     0.90891,     0.90991,     0.91091,     0.91191,\n",
              "           0.91291,     0.91391,     0.91491,     0.91592,     0.91692,     0.91792,     0.91892,     0.91992,     0.92092,     0.92192,     0.92292,     0.92392,     0.92492,     0.92593,     0.92693,     0.92793,     0.92893,     0.92993,     0.93093,     0.93193,     0.93293,     0.93393,     0.93493,     0.93594,\n",
              "           0.93694,     0.93794,     0.93894,     0.93994,     0.94094,     0.94194,     0.94294,     0.94394,     0.94494,     0.94595,     0.94695,     0.94795,     0.94895,     0.94995,     0.95095,     0.95195,     0.95295,     0.95395,     0.95495,     0.95596,     0.95696,     0.95796,     0.95896,     0.95996,\n",
              "           0.96096,     0.96196,     0.96296,     0.96396,     0.96496,     0.96597,     0.96697,     0.96797,     0.96897,     0.96997,     0.97097,     0.97197,     0.97297,     0.97397,     0.97497,     0.97598,     0.97698,     0.97798,     0.97898,     0.97998,     0.98098,     0.98198,     0.98298,     0.98398,\n",
              "           0.98498,     0.98599,     0.98699,     0.98799,     0.98899,     0.98999,     0.99099,     0.99199,     0.99299,     0.99399,     0.99499,       0.996,       0.997,       0.998,       0.999,           1]), array([[   0.014306,    0.014306,    0.014447,    0.016501,    0.026008,    0.038443,    0.048294,    0.056932,    0.064476,    0.071108,    0.078485,    0.084939,    0.091431,    0.097272,     0.10406,     0.10945,      0.1147,     0.11974,     0.12417,      0.1295,     0.13238,     0.13647,     0.14123,\n",
              "            0.14635,     0.15073,     0.15565,     0.16016,     0.16388,     0.16732,     0.17176,     0.17629,     0.17958,     0.18249,     0.18583,     0.18946,      0.1948,     0.19767,     0.20104,     0.20393,     0.20737,     0.21135,     0.21653,     0.21996,     0.22433,     0.22843,     0.23187,\n",
              "            0.23669,      0.2388,     0.24061,     0.24296,     0.24607,     0.24966,     0.25075,     0.25279,     0.25421,     0.25566,      0.2581,     0.26113,     0.26173,     0.26492,     0.26836,      0.2696,     0.27207,     0.27486,     0.27815,     0.28152,     0.28388,     0.28603,      0.2864,\n",
              "            0.28795,     0.29063,     0.29382,     0.29731,     0.29955,     0.30262,      0.3048,     0.30648,     0.30844,     0.31116,     0.31404,     0.31666,     0.31723,     0.32094,     0.32407,     0.32673,     0.32813,     0.32766,     0.33011,     0.33122,     0.33371,     0.33805,     0.34098,\n",
              "            0.34277,     0.34419,     0.34702,     0.35007,     0.35074,     0.35147,     0.35428,     0.35579,     0.35921,     0.35958,     0.36127,     0.36445,     0.36591,     0.36748,     0.36813,      0.3701,     0.37092,     0.37248,      0.3744,     0.37587,      0.3788,     0.37983,     0.38104,\n",
              "            0.38212,      0.3831,     0.38531,     0.38659,     0.38764,     0.38901,     0.39213,     0.39337,     0.39471,     0.39625,      0.3989,     0.40097,     0.40398,      0.4068,      0.4079,     0.40914,     0.41021,     0.41162,     0.41503,     0.41631,     0.41672,     0.41852,     0.42008,\n",
              "            0.42339,     0.42656,     0.42898,     0.43042,     0.43166,     0.43162,     0.43205,     0.43315,     0.43376,     0.43804,     0.44137,     0.44243,     0.44316,     0.44566,     0.44649,     0.44704,      0.4482,     0.44875,     0.45072,     0.45156,     0.45353,     0.45314,     0.45269,\n",
              "             0.4531,     0.45345,     0.45585,     0.45673,     0.45836,     0.46018,     0.46191,     0.46543,     0.46795,     0.46902,     0.46811,     0.46983,     0.47106,     0.47412,     0.47581,     0.47847,     0.47907,     0.48017,     0.48333,     0.48566,     0.48474,     0.48523,     0.48702,\n",
              "            0.48739,     0.48776,     0.48908,     0.49113,     0.49294,     0.49453,     0.49529,     0.49869,     0.50315,     0.50238,     0.50333,     0.50428,     0.50524,     0.50661,     0.50769,     0.50907,     0.50858,     0.50763,     0.50745,     0.50835,     0.50934,     0.51119,     0.51297,\n",
              "            0.51256,     0.51456,     0.51552,     0.51512,     0.51472,      0.5171,     0.51775,     0.51902,     0.52353,     0.52393,     0.52432,     0.52482,     0.52579,     0.52695,     0.53035,     0.53103,     0.53437,     0.53502,     0.53627,     0.54022,     0.54001,        0.54,     0.54485,\n",
              "            0.54617,     0.54752,     0.54961,     0.55158,     0.55196,     0.55447,     0.55518,     0.55576,     0.55598,     0.55825,      0.5591,     0.55876,     0.55842,     0.55809,     0.55949,     0.55884,     0.55964,     0.56071,     0.56161,     0.56288,     0.56261,      0.5632,     0.56378,\n",
              "            0.56575,     0.56611,     0.56647,     0.56683,     0.56795,     0.57013,     0.57167,      0.5715,     0.57133,     0.57115,     0.57098,     0.57081,     0.57064,     0.57007,     0.56945,     0.57121,     0.57217,      0.5732,     0.57766,     0.57954,     0.58052,      0.5806,     0.58004,\n",
              "            0.57992,     0.58045,     0.58098,     0.58166,     0.58282,     0.58786,     0.58917,     0.59074,     0.59098,     0.59125,     0.59242,     0.59346,      0.5969,     0.59641,      0.5955,     0.59617,     0.59684,     0.59719,     0.59747,     0.59774,     0.59802,      0.5983,     0.59857,\n",
              "            0.59841,     0.59909,     0.60209,     0.60415,      0.6047,     0.60525,     0.60532,      0.6046,     0.60324,     0.60385,     0.60462,     0.60789,     0.60857,     0.60806,     0.60781,     0.60967,     0.61445,     0.61526,     0.61608,     0.62005,     0.62048,     0.62457,      0.6231,\n",
              "            0.62419,     0.62345,     0.62775,     0.62979,     0.63104,      0.6325,     0.63426,     0.63603,     0.63967,     0.64068,     0.63998,     0.63947,     0.63896,     0.63933,     0.63983,     0.64034,     0.64085,     0.64051,     0.64077,     0.64226,      0.6428,     0.64335,     0.64389,\n",
              "             0.6467,     0.64715,      0.6476,     0.64804,     0.64849,     0.65124,      0.6509,     0.65056,     0.65022,      0.6499,     0.64961,     0.64933,     0.64904,     0.64876,     0.65576,     0.65818,     0.65744,     0.65768,     0.66042,     0.66571,     0.66638,     0.66592,     0.66546,\n",
              "            0.66781,     0.67543,     0.67514,      0.6748,     0.67447,     0.67473,     0.67623,     0.67641,     0.67578,     0.67768,     0.67695,     0.67663,     0.67633,     0.67603,     0.67573,     0.67746,     0.67878,     0.67754,     0.67546,     0.67915,     0.68097,     0.68237,     0.68146,\n",
              "            0.68195,     0.68244,     0.68293,     0.68342,     0.68392,     0.68535,     0.68821,      0.6895,     0.68885,     0.68815,      0.6874,     0.68782,     0.68855,     0.68927,        0.69,     0.68848,     0.68813,     0.68777,     0.68456,      0.6838,     0.68479,     0.68577,     0.68632,\n",
              "            0.68596,     0.68559,     0.68523,     0.68488,     0.68453,     0.68419,     0.68384,     0.68563,     0.68424,     0.68368,      0.6833,     0.68293,     0.68908,     0.69138,      0.6886,     0.68733,     0.68662,      0.6859,     0.68517,     0.68506,     0.68622,     0.68737,     0.68847,\n",
              "            0.68954,     0.69061,     0.69039,     0.68967,     0.68838,     0.68778,     0.68741,     0.68705,     0.68668,      0.6862,      0.6857,      0.6852,     0.68687,     0.69012,      0.6888,     0.69185,     0.68916,      0.6911,     0.69257,     0.69325,     0.69394,     0.69462,     0.69531,\n",
              "            0.69623,     0.69738,     0.69854,     0.69957,     0.70204,     0.70381,     0.70347,     0.70377,     0.70497,     0.70616,     0.70916,      0.7114,     0.71323,     0.71236,     0.71149,     0.71074,     0.71763,     0.72515,     0.72401,     0.72253,     0.72631,     0.72556,     0.72511,\n",
              "            0.72715,     0.72625,     0.72806,     0.72669,     0.72618,     0.72567,     0.72559,     0.72696,     0.72833,      0.7273,     0.73173,     0.73392,     0.73281,     0.73242,     0.73202,     0.73163,     0.73105,     0.73026,     0.72947,     0.72867,     0.74095,     0.74056,     0.74017,\n",
              "            0.73977,     0.74002,     0.74059,     0.74115,     0.74172,     0.74228,     0.74284,     0.74341,     0.74397,       0.748,     0.74816,     0.74777,     0.74738,     0.74699,     0.75384,     0.75613,     0.75708,     0.75803,     0.75899,     0.75994,     0.76099,      0.7626,      0.7642,\n",
              "            0.76526,     0.76451,     0.76383,     0.76333,     0.76283,     0.76424,     0.77166,     0.77419,     0.77501,      0.7741,     0.77388,     0.77367,     0.77345,     0.77324,     0.77302,     0.77281,     0.77595,     0.78117,      0.7824,     0.78166,     0.78092,     0.78017,     0.77884,\n",
              "            0.77791,     0.77715,     0.78102,     0.78015,     0.77938,     0.77999,     0.78073,     0.78147,     0.78221,     0.78295,     0.78369,     0.78443,     0.78809,     0.80119,     0.80083,     0.80046,      0.8001,     0.79947,     0.79873,     0.80008,     0.80206,     0.80404,     0.80962,\n",
              "             0.8089,     0.80818,     0.80745,     0.80706,     0.80669,     0.80632,     0.80596,     0.80569,     0.80542,     0.80514,     0.80487,      0.8046,     0.80871,     0.81282,     0.81599,     0.81484,      0.8141,     0.81377,     0.81354,     0.81331,     0.81308,     0.81285,     0.81263,\n",
              "            0.81227,     0.81177,     0.81126,     0.81075,     0.81024,     0.80973,      0.8094,     0.80919,     0.80898,     0.80877,     0.80857,     0.80836,     0.80815,     0.80755,     0.80852,     0.81289,     0.81254,     0.81219,     0.81184,      0.8115,     0.80997,     0.82007,     0.82351,\n",
              "            0.82197,     0.81892,     0.81828,     0.81763,     0.81688,     0.81606,     0.81466,     0.81936,     0.82243,      0.8238,     0.82518,     0.82656,     0.82794,     0.83159,      0.8362,     0.83576,     0.83532,     0.83488,     0.84252,     0.84209,     0.84159,     0.84899,     0.84801,\n",
              "            0.84732,     0.84682,     0.84632,     0.84512,     0.84598,     0.84786,     0.84975,     0.85164,     0.85286,     0.85259,     0.85231,     0.85204,     0.85177,      0.8515,     0.84982,     0.84944,     0.84905,     0.84866,     0.84813,      0.8475,     0.84675,     0.84661,     0.85409,\n",
              "            0.85364,     0.85319,     0.85274,     0.85402,     0.85588,     0.85774,      0.8596,     0.86146,     0.86038,     0.85991,     0.85956,     0.85921,     0.85887,     0.86811,      0.8666,     0.86583,     0.87347,     0.87247,     0.87199,     0.87183,     0.87167,      0.8715,     0.87134,\n",
              "            0.87118,     0.87102,     0.87085,     0.87069,     0.87002,     0.87836,     0.87971,     0.88156,     0.88341,     0.88526,     0.88711,     0.88883,     0.88731,     0.88573,     0.88513,     0.88359,     0.88699,      0.8904,      0.8938,     0.89432,     0.89374,     0.89291,      0.8917,\n",
              "             0.8911,     0.89049,     0.88877,     0.88845,     0.88812,      0.8878,     0.88748,     0.88649,     0.88511,     0.88404,     0.88375,     0.88346,     0.88316,     0.88287,     0.88258,      0.8835,      0.8889,      0.8943,     0.89541,     0.89526,     0.89511,     0.89497,     0.89482,\n",
              "            0.89467,     0.89452,     0.89438,     0.89423,     0.89408,     0.89434,     0.90374,      0.9075,     0.90717,     0.90684,     0.90652,     0.90619,     0.90585,     0.90551,     0.90517,     0.90483,     0.90445,     0.90405,     0.90366,     0.90327,     0.90374,     0.90887,     0.91401,\n",
              "             0.9162,      0.9152,     0.91367,     0.91343,     0.91319,     0.91295,     0.91271,     0.91247,     0.91223,     0.91196,     0.91169,     0.91143,     0.91116,     0.91089,     0.90895,     0.90851,     0.90808,     0.90765,      0.9071,     0.90638,     0.90566,     0.91276,      0.9199,\n",
              "            0.92222,      0.9214,     0.92111,     0.92081,     0.92052,     0.92023,     0.91928,     0.91795,     0.91736,     0.91678,     0.91895,     0.92181,     0.92466,     0.92752,     0.93037,     0.93323,     0.93609,     0.93583,     0.93547,     0.93511,     0.93458,     0.93243,     0.93157,\n",
              "            0.93117,     0.93076,     0.93035,     0.92838,     0.92749,     0.92663,     0.92588,     0.92513,     0.92392,     0.92258,     0.92119,     0.91909,     0.91785,      0.9167,      0.9143,     0.91108,      0.9104,     0.90971,     0.90906,     0.90869,     0.90833,     0.90796,      0.9076,\n",
              "            0.90724,     0.90687,     0.90651,     0.90612,     0.90568,     0.90524,     0.90479,     0.90435,     0.90391,     0.90347,     0.90272,     0.90162,     0.90052,     0.89925,     0.89783,     0.89649,      0.8958,     0.89511,     0.89442,     0.89373,     0.89304,     0.91753,     0.92274,\n",
              "            0.92229,     0.92184,     0.92139,     0.92094,     0.92049,     0.92003,     0.91842,     0.91671,     0.91426,     0.91201,     0.90999,     0.90874,      0.9081,     0.90747,     0.90684,      0.9062,     0.90557,     0.90493,     0.91602,     0.93148,     0.94694,     0.94856,     0.94711,\n",
              "            0.94637,     0.94562,     0.94487,     0.94298,     0.93771,     0.93473,     0.93271,     0.93149,     0.93027,     0.92905,     0.92772,     0.92631,      0.9249,     0.92349,     0.93895,     0.96148,     0.98401,           1,           1,           1,           1,           1,           1,\n",
              "                  1,           1,           1,           1,           1,           1,           1,           1,           1,           1,           1,           1,           1,           1,           1,           1,           1,           1,           1,           1,           1,           1,           1,\n",
              "                  1,           1,           1,           1,           1,           1,           1,           1,           1,           1,           1,           1,           1,           1,           1,           1,           1,           1,           1,           1,           1,           1,           1,\n",
              "                  1,           1,           1,           1,           1,           1,           1,           1,           1,           1,           1,           1,           1,           1,           1,           1,           1,           1,           1,           1,           1,           1,           1,\n",
              "                  1,           1,           1,           1,           1,           1,           1,           1,           1,           1,           1,           1,           1,           1,           1,           1,           1,           1,           1,           1,           1,           1,           1,\n",
              "                  1,           1,           1,           1,           1,           1,           1,           1,           1,           1,           1]]), 'Confidence', 'Precision'], [array([          0,    0.001001,    0.002002,    0.003003,    0.004004,    0.005005,    0.006006,    0.007007,    0.008008,    0.009009,     0.01001,    0.011011,    0.012012,    0.013013,    0.014014,    0.015015,    0.016016,    0.017017,    0.018018,    0.019019,     0.02002,    0.021021,    0.022022,    0.023023,\n",
              "          0.024024,    0.025025,    0.026026,    0.027027,    0.028028,    0.029029,     0.03003,    0.031031,    0.032032,    0.033033,    0.034034,    0.035035,    0.036036,    0.037037,    0.038038,    0.039039,     0.04004,    0.041041,    0.042042,    0.043043,    0.044044,    0.045045,    0.046046,    0.047047,\n",
              "          0.048048,    0.049049,     0.05005,    0.051051,    0.052052,    0.053053,    0.054054,    0.055055,    0.056056,    0.057057,    0.058058,    0.059059,     0.06006,    0.061061,    0.062062,    0.063063,    0.064064,    0.065065,    0.066066,    0.067067,    0.068068,    0.069069,     0.07007,    0.071071,\n",
              "          0.072072,    0.073073,    0.074074,    0.075075,    0.076076,    0.077077,    0.078078,    0.079079,     0.08008,    0.081081,    0.082082,    0.083083,    0.084084,    0.085085,    0.086086,    0.087087,    0.088088,    0.089089,     0.09009,    0.091091,    0.092092,    0.093093,    0.094094,    0.095095,\n",
              "          0.096096,    0.097097,    0.098098,    0.099099,      0.1001,      0.1011,      0.1021,      0.1031,      0.1041,     0.10511,     0.10611,     0.10711,     0.10811,     0.10911,     0.11011,     0.11111,     0.11211,     0.11311,     0.11411,     0.11512,     0.11612,     0.11712,     0.11812,     0.11912,\n",
              "           0.12012,     0.12112,     0.12212,     0.12312,     0.12412,     0.12513,     0.12613,     0.12713,     0.12813,     0.12913,     0.13013,     0.13113,     0.13213,     0.13313,     0.13413,     0.13514,     0.13614,     0.13714,     0.13814,     0.13914,     0.14014,     0.14114,     0.14214,     0.14314,\n",
              "           0.14414,     0.14515,     0.14615,     0.14715,     0.14815,     0.14915,     0.15015,     0.15115,     0.15215,     0.15315,     0.15415,     0.15516,     0.15616,     0.15716,     0.15816,     0.15916,     0.16016,     0.16116,     0.16216,     0.16316,     0.16416,     0.16517,     0.16617,     0.16717,\n",
              "           0.16817,     0.16917,     0.17017,     0.17117,     0.17217,     0.17317,     0.17417,     0.17518,     0.17618,     0.17718,     0.17818,     0.17918,     0.18018,     0.18118,     0.18218,     0.18318,     0.18418,     0.18519,     0.18619,     0.18719,     0.18819,     0.18919,     0.19019,     0.19119,\n",
              "           0.19219,     0.19319,     0.19419,      0.1952,      0.1962,      0.1972,      0.1982,      0.1992,      0.2002,      0.2012,      0.2022,      0.2032,      0.2042,     0.20521,     0.20621,     0.20721,     0.20821,     0.20921,     0.21021,     0.21121,     0.21221,     0.21321,     0.21421,     0.21522,\n",
              "           0.21622,     0.21722,     0.21822,     0.21922,     0.22022,     0.22122,     0.22222,     0.22322,     0.22422,     0.22523,     0.22623,     0.22723,     0.22823,     0.22923,     0.23023,     0.23123,     0.23223,     0.23323,     0.23423,     0.23524,     0.23624,     0.23724,     0.23824,     0.23924,\n",
              "           0.24024,     0.24124,     0.24224,     0.24324,     0.24424,     0.24525,     0.24625,     0.24725,     0.24825,     0.24925,     0.25025,     0.25125,     0.25225,     0.25325,     0.25425,     0.25526,     0.25626,     0.25726,     0.25826,     0.25926,     0.26026,     0.26126,     0.26226,     0.26326,\n",
              "           0.26426,     0.26527,     0.26627,     0.26727,     0.26827,     0.26927,     0.27027,     0.27127,     0.27227,     0.27327,     0.27427,     0.27528,     0.27628,     0.27728,     0.27828,     0.27928,     0.28028,     0.28128,     0.28228,     0.28328,     0.28428,     0.28529,     0.28629,     0.28729,\n",
              "           0.28829,     0.28929,     0.29029,     0.29129,     0.29229,     0.29329,     0.29429,      0.2953,      0.2963,      0.2973,      0.2983,      0.2993,      0.3003,      0.3013,      0.3023,      0.3033,      0.3043,     0.30531,     0.30631,     0.30731,     0.30831,     0.30931,     0.31031,     0.31131,\n",
              "           0.31231,     0.31331,     0.31431,     0.31532,     0.31632,     0.31732,     0.31832,     0.31932,     0.32032,     0.32132,     0.32232,     0.32332,     0.32432,     0.32533,     0.32633,     0.32733,     0.32833,     0.32933,     0.33033,     0.33133,     0.33233,     0.33333,     0.33433,     0.33534,\n",
              "           0.33634,     0.33734,     0.33834,     0.33934,     0.34034,     0.34134,     0.34234,     0.34334,     0.34434,     0.34535,     0.34635,     0.34735,     0.34835,     0.34935,     0.35035,     0.35135,     0.35235,     0.35335,     0.35435,     0.35536,     0.35636,     0.35736,     0.35836,     0.35936,\n",
              "           0.36036,     0.36136,     0.36236,     0.36336,     0.36436,     0.36537,     0.36637,     0.36737,     0.36837,     0.36937,     0.37037,     0.37137,     0.37237,     0.37337,     0.37437,     0.37538,     0.37638,     0.37738,     0.37838,     0.37938,     0.38038,     0.38138,     0.38238,     0.38338,\n",
              "           0.38438,     0.38539,     0.38639,     0.38739,     0.38839,     0.38939,     0.39039,     0.39139,     0.39239,     0.39339,     0.39439,      0.3954,      0.3964,      0.3974,      0.3984,      0.3994,      0.4004,      0.4014,      0.4024,      0.4034,      0.4044,     0.40541,     0.40641,     0.40741,\n",
              "           0.40841,     0.40941,     0.41041,     0.41141,     0.41241,     0.41341,     0.41441,     0.41542,     0.41642,     0.41742,     0.41842,     0.41942,     0.42042,     0.42142,     0.42242,     0.42342,     0.42442,     0.42543,     0.42643,     0.42743,     0.42843,     0.42943,     0.43043,     0.43143,\n",
              "           0.43243,     0.43343,     0.43443,     0.43544,     0.43644,     0.43744,     0.43844,     0.43944,     0.44044,     0.44144,     0.44244,     0.44344,     0.44444,     0.44545,     0.44645,     0.44745,     0.44845,     0.44945,     0.45045,     0.45145,     0.45245,     0.45345,     0.45445,     0.45546,\n",
              "           0.45646,     0.45746,     0.45846,     0.45946,     0.46046,     0.46146,     0.46246,     0.46346,     0.46446,     0.46547,     0.46647,     0.46747,     0.46847,     0.46947,     0.47047,     0.47147,     0.47247,     0.47347,     0.47447,     0.47548,     0.47648,     0.47748,     0.47848,     0.47948,\n",
              "           0.48048,     0.48148,     0.48248,     0.48348,     0.48448,     0.48549,     0.48649,     0.48749,     0.48849,     0.48949,     0.49049,     0.49149,     0.49249,     0.49349,     0.49449,      0.4955,      0.4965,      0.4975,      0.4985,      0.4995,      0.5005,      0.5015,      0.5025,      0.5035,\n",
              "            0.5045,     0.50551,     0.50651,     0.50751,     0.50851,     0.50951,     0.51051,     0.51151,     0.51251,     0.51351,     0.51451,     0.51552,     0.51652,     0.51752,     0.51852,     0.51952,     0.52052,     0.52152,     0.52252,     0.52352,     0.52452,     0.52553,     0.52653,     0.52753,\n",
              "           0.52853,     0.52953,     0.53053,     0.53153,     0.53253,     0.53353,     0.53453,     0.53554,     0.53654,     0.53754,     0.53854,     0.53954,     0.54054,     0.54154,     0.54254,     0.54354,     0.54454,     0.54555,     0.54655,     0.54755,     0.54855,     0.54955,     0.55055,     0.55155,\n",
              "           0.55255,     0.55355,     0.55455,     0.55556,     0.55656,     0.55756,     0.55856,     0.55956,     0.56056,     0.56156,     0.56256,     0.56356,     0.56456,     0.56557,     0.56657,     0.56757,     0.56857,     0.56957,     0.57057,     0.57157,     0.57257,     0.57357,     0.57457,     0.57558,\n",
              "           0.57658,     0.57758,     0.57858,     0.57958,     0.58058,     0.58158,     0.58258,     0.58358,     0.58458,     0.58559,     0.58659,     0.58759,     0.58859,     0.58959,     0.59059,     0.59159,     0.59259,     0.59359,     0.59459,      0.5956,      0.5966,      0.5976,      0.5986,      0.5996,\n",
              "            0.6006,      0.6016,      0.6026,      0.6036,      0.6046,     0.60561,     0.60661,     0.60761,     0.60861,     0.60961,     0.61061,     0.61161,     0.61261,     0.61361,     0.61461,     0.61562,     0.61662,     0.61762,     0.61862,     0.61962,     0.62062,     0.62162,     0.62262,     0.62362,\n",
              "           0.62462,     0.62563,     0.62663,     0.62763,     0.62863,     0.62963,     0.63063,     0.63163,     0.63263,     0.63363,     0.63463,     0.63564,     0.63664,     0.63764,     0.63864,     0.63964,     0.64064,     0.64164,     0.64264,     0.64364,     0.64464,     0.64565,     0.64665,     0.64765,\n",
              "           0.64865,     0.64965,     0.65065,     0.65165,     0.65265,     0.65365,     0.65465,     0.65566,     0.65666,     0.65766,     0.65866,     0.65966,     0.66066,     0.66166,     0.66266,     0.66366,     0.66466,     0.66567,     0.66667,     0.66767,     0.66867,     0.66967,     0.67067,     0.67167,\n",
              "           0.67267,     0.67367,     0.67467,     0.67568,     0.67668,     0.67768,     0.67868,     0.67968,     0.68068,     0.68168,     0.68268,     0.68368,     0.68468,     0.68569,     0.68669,     0.68769,     0.68869,     0.68969,     0.69069,     0.69169,     0.69269,     0.69369,     0.69469,      0.6957,\n",
              "            0.6967,      0.6977,      0.6987,      0.6997,      0.7007,      0.7017,      0.7027,      0.7037,      0.7047,     0.70571,     0.70671,     0.70771,     0.70871,     0.70971,     0.71071,     0.71171,     0.71271,     0.71371,     0.71471,     0.71572,     0.71672,     0.71772,     0.71872,     0.71972,\n",
              "           0.72072,     0.72172,     0.72272,     0.72372,     0.72472,     0.72573,     0.72673,     0.72773,     0.72873,     0.72973,     0.73073,     0.73173,     0.73273,     0.73373,     0.73473,     0.73574,     0.73674,     0.73774,     0.73874,     0.73974,     0.74074,     0.74174,     0.74274,     0.74374,\n",
              "           0.74474,     0.74575,     0.74675,     0.74775,     0.74875,     0.74975,     0.75075,     0.75175,     0.75275,     0.75375,     0.75475,     0.75576,     0.75676,     0.75776,     0.75876,     0.75976,     0.76076,     0.76176,     0.76276,     0.76376,     0.76476,     0.76577,     0.76677,     0.76777,\n",
              "           0.76877,     0.76977,     0.77077,     0.77177,     0.77277,     0.77377,     0.77477,     0.77578,     0.77678,     0.77778,     0.77878,     0.77978,     0.78078,     0.78178,     0.78278,     0.78378,     0.78478,     0.78579,     0.78679,     0.78779,     0.78879,     0.78979,     0.79079,     0.79179,\n",
              "           0.79279,     0.79379,     0.79479,      0.7958,      0.7968,      0.7978,      0.7988,      0.7998,      0.8008,      0.8018,      0.8028,      0.8038,      0.8048,     0.80581,     0.80681,     0.80781,     0.80881,     0.80981,     0.81081,     0.81181,     0.81281,     0.81381,     0.81481,     0.81582,\n",
              "           0.81682,     0.81782,     0.81882,     0.81982,     0.82082,     0.82182,     0.82282,     0.82382,     0.82482,     0.82583,     0.82683,     0.82783,     0.82883,     0.82983,     0.83083,     0.83183,     0.83283,     0.83383,     0.83483,     0.83584,     0.83684,     0.83784,     0.83884,     0.83984,\n",
              "           0.84084,     0.84184,     0.84284,     0.84384,     0.84484,     0.84585,     0.84685,     0.84785,     0.84885,     0.84985,     0.85085,     0.85185,     0.85285,     0.85385,     0.85485,     0.85586,     0.85686,     0.85786,     0.85886,     0.85986,     0.86086,     0.86186,     0.86286,     0.86386,\n",
              "           0.86486,     0.86587,     0.86687,     0.86787,     0.86887,     0.86987,     0.87087,     0.87187,     0.87287,     0.87387,     0.87487,     0.87588,     0.87688,     0.87788,     0.87888,     0.87988,     0.88088,     0.88188,     0.88288,     0.88388,     0.88488,     0.88589,     0.88689,     0.88789,\n",
              "           0.88889,     0.88989,     0.89089,     0.89189,     0.89289,     0.89389,     0.89489,      0.8959,      0.8969,      0.8979,      0.8989,      0.8999,      0.9009,      0.9019,      0.9029,      0.9039,      0.9049,     0.90591,     0.90691,     0.90791,     0.90891,     0.90991,     0.91091,     0.91191,\n",
              "           0.91291,     0.91391,     0.91491,     0.91592,     0.91692,     0.91792,     0.91892,     0.91992,     0.92092,     0.92192,     0.92292,     0.92392,     0.92492,     0.92593,     0.92693,     0.92793,     0.92893,     0.92993,     0.93093,     0.93193,     0.93293,     0.93393,     0.93493,     0.93594,\n",
              "           0.93694,     0.93794,     0.93894,     0.93994,     0.94094,     0.94194,     0.94294,     0.94394,     0.94494,     0.94595,     0.94695,     0.94795,     0.94895,     0.94995,     0.95095,     0.95195,     0.95295,     0.95395,     0.95495,     0.95596,     0.95696,     0.95796,     0.95896,     0.95996,\n",
              "           0.96096,     0.96196,     0.96296,     0.96396,     0.96496,     0.96597,     0.96697,     0.96797,     0.96897,     0.96997,     0.97097,     0.97197,     0.97297,     0.97397,     0.97497,     0.97598,     0.97698,     0.97798,     0.97898,     0.97998,     0.98098,     0.98198,     0.98298,     0.98398,\n",
              "           0.98498,     0.98599,     0.98699,     0.98799,     0.98899,     0.98999,     0.99099,     0.99199,     0.99299,     0.99399,     0.99499,       0.996,       0.997,       0.998,       0.999,           1]), array([[    0.92515,     0.92515,     0.92515,     0.92216,     0.91916,     0.90719,      0.8982,     0.88623,     0.87425,     0.86826,     0.86826,     0.86527,     0.86228,     0.85629,     0.85329,     0.85329,      0.8503,     0.84731,     0.84431,     0.84132,     0.83234,     0.82934,     0.82635,\n",
              "            0.82335,     0.82036,     0.82036,     0.81737,     0.81138,     0.80838,     0.80281,      0.8024,      0.7994,     0.79641,     0.79641,     0.79641,     0.79641,     0.79341,     0.78743,     0.78743,     0.78743,     0.78743,     0.78743,     0.78743,     0.78443,     0.78144,     0.78144,\n",
              "            0.78144,     0.77844,     0.77545,     0.77246,     0.77246,     0.77246,     0.76647,     0.76347,     0.76048,     0.75895,     0.75449,     0.75449,      0.7485,      0.7485,      0.7485,     0.74551,     0.74551,     0.74551,     0.74551,     0.74551,     0.74551,     0.74251,     0.73653,\n",
              "            0.73353,     0.73353,     0.73353,     0.73353,     0.73353,     0.73353,     0.73353,     0.73054,     0.73054,     0.72754,     0.72754,     0.72754,     0.72455,     0.72455,     0.72455,     0.72455,      0.7238,     0.72156,     0.72156,     0.71856,     0.71557,     0.71557,     0.71557,\n",
              "            0.71557,     0.71557,     0.71557,     0.71557,     0.71257,     0.71257,     0.70958,     0.70958,     0.70958,     0.70958,     0.70958,     0.70958,     0.70958,     0.70958,     0.70958,     0.70958,     0.70659,     0.70377,      0.7006,      0.7006,      0.7006,      0.7006,      0.7006,\n",
              "            0.69461,     0.69461,     0.69461,     0.69461,     0.69461,     0.69461,     0.69461,     0.69461,     0.69461,     0.69461,     0.69461,     0.69461,     0.69461,     0.69162,     0.69162,     0.69162,     0.69162,     0.69162,     0.69162,     0.69162,     0.69162,     0.69162,     0.69162,\n",
              "            0.69162,     0.69162,     0.69162,     0.69162,     0.69162,      0.6889,     0.68862,     0.68862,     0.68563,     0.68563,     0.68563,     0.68563,     0.68563,     0.68563,     0.68563,     0.68563,     0.68563,     0.68563,     0.68546,     0.68263,     0.68263,     0.67977,     0.67665,\n",
              "            0.67471,     0.67365,     0.67365,     0.67365,     0.67365,     0.67365,     0.67365,     0.67066,     0.67066,     0.67066,     0.66467,     0.66467,     0.66467,     0.66467,     0.66467,     0.66467,     0.66467,     0.66467,     0.66467,     0.66436,     0.66191,     0.65868,     0.65868,\n",
              "            0.65868,     0.65868,     0.65569,     0.65569,     0.65569,     0.65569,     0.65569,     0.65569,     0.65569,     0.65269,     0.65269,     0.65269,     0.65269,     0.65269,     0.65269,     0.65269,     0.64759,     0.64514,     0.64371,     0.64371,     0.64371,     0.64371,     0.64371,\n",
              "            0.64072,     0.64072,     0.64036,     0.63934,     0.63832,     0.63772,     0.63772,     0.63772,     0.63772,     0.63772,     0.63772,     0.63772,     0.63772,     0.63473,     0.63473,     0.63473,     0.63473,     0.63473,     0.63473,     0.63473,     0.63267,     0.62874,     0.62874,\n",
              "            0.62874,     0.62874,     0.62874,     0.62874,     0.62575,     0.62575,     0.62575,     0.62553,     0.62275,     0.62275,     0.62265,      0.6218,     0.62095,     0.62011,     0.61677,     0.61442,     0.61377,     0.61078,     0.61078,     0.60917,     0.60778,     0.60778,     0.60778,\n",
              "            0.60778,     0.60778,     0.60778,     0.60778,     0.60778,     0.60778,     0.60738,     0.60696,     0.60653,     0.60611,     0.60569,     0.60526,     0.60484,     0.60343,      0.6019,      0.6018,      0.6018,      0.6018,      0.6018,      0.6018,      0.6018,     0.60099,     0.59962,\n",
              "             0.5988,      0.5988,      0.5988,      0.5988,      0.5988,      0.5988,      0.5988,      0.5988,     0.59698,     0.59581,     0.59581,     0.59581,     0.59581,     0.59289,     0.58982,     0.58982,     0.58982,     0.58982,     0.58982,     0.58982,     0.58982,     0.58982,     0.58982,\n",
              "            0.58889,     0.58383,     0.58383,     0.58383,     0.58383,     0.58383,     0.58318,     0.58142,     0.57811,     0.57784,     0.57784,     0.57784,     0.57721,     0.57598,     0.57485,     0.57186,     0.57186,     0.57186,     0.57186,     0.57186,     0.56886,     0.56783,     0.56427,\n",
              "            0.56192,     0.56017,     0.55988,     0.55988,     0.55988,     0.55988,     0.55988,     0.55988,     0.55689,     0.55689,     0.55352,      0.5523,     0.55107,      0.5509,      0.5509,      0.5509,      0.5509,     0.54945,      0.5479,      0.5479,      0.5479,      0.5479,      0.5479,\n",
              "             0.5479,      0.5479,      0.5479,      0.5479,      0.5479,      0.5479,     0.54708,     0.54626,     0.54544,     0.54467,     0.54399,     0.54331,     0.54263,     0.54194,     0.54192,      0.5419,     0.54015,     0.53892,     0.53892,     0.53892,     0.53823,     0.53712,       0.536,\n",
              "            0.53593,     0.53593,     0.53512,      0.5343,     0.53349,     0.53293,     0.53293,     0.53198,     0.53045,     0.52877,     0.52702,     0.52625,     0.52553,     0.52481,     0.52409,     0.52195,      0.5188,     0.51585,     0.50898,     0.50898,     0.50898,     0.50898,     0.50599,\n",
              "            0.50599,     0.50599,     0.50599,     0.50599,     0.50599,     0.50599,     0.50599,      0.5053,     0.50376,     0.50212,     0.50037,         0.5,         0.5,         0.5,         0.5,     0.49628,     0.49546,     0.49464,     0.48732,     0.48503,     0.48503,     0.48503,     0.48476,\n",
              "            0.48394,     0.48313,     0.48231,     0.48152,     0.48076,     0.47999,     0.47922,     0.47669,     0.47362,     0.47239,     0.47157,     0.47075,     0.47006,      0.4695,     0.46344,     0.46072,     0.45919,     0.45766,     0.45612,     0.45509,     0.45509,     0.45509,     0.45509,\n",
              "            0.45509,     0.45509,     0.45399,     0.45245,     0.44974,     0.44849,     0.44773,     0.44696,     0.44619,      0.4452,     0.44418,     0.44315,     0.44012,     0.44009,     0.43713,     0.43694,     0.43114,     0.43114,     0.43114,     0.43114,     0.43114,     0.43114,     0.43114,\n",
              "            0.43114,     0.43114,     0.43114,     0.42814,     0.42814,     0.42814,     0.42616,     0.42515,     0.42515,     0.42515,     0.42515,     0.42515,     0.42515,     0.42264,     0.42087,     0.41933,     0.41916,     0.41916,     0.41628,     0.41321,     0.41316,     0.41162,     0.41018,\n",
              "            0.40692,     0.40419,     0.40079,     0.39804,     0.39702,       0.396,     0.39521,     0.39521,     0.39521,     0.39128,     0.38922,     0.38814,     0.38594,     0.38517,      0.3844,     0.38364,      0.3825,     0.38097,     0.37943,      0.3779,     0.37681,     0.37604,     0.37527,\n",
              "             0.3745,     0.37425,     0.37425,     0.37425,     0.37425,     0.37425,     0.37425,     0.37425,     0.37425,     0.37425,     0.37357,      0.3728,     0.37203,     0.37127,     0.37126,     0.37126,     0.37126,     0.37126,     0.37126,     0.37126,     0.37126,     0.37126,     0.37126,\n",
              "             0.3709,     0.36937,     0.36798,     0.36695,     0.36593,     0.36527,     0.36228,     0.36228,     0.36096,     0.35908,     0.35864,     0.35821,     0.35777,     0.35733,     0.35689,     0.35645,     0.35629,     0.35629,     0.35526,     0.35372,     0.35219,     0.35065,     0.34794,\n",
              "            0.34609,     0.34455,     0.34172,     0.33999,     0.33845,     0.33832,     0.33832,     0.33832,     0.33832,     0.33832,     0.33832,     0.33832,     0.33832,     0.33784,     0.33708,     0.33631,     0.33554,     0.33422,     0.33269,     0.33234,     0.33234,     0.33234,     0.33104,\n",
              "            0.32951,     0.32797,     0.32644,     0.32563,     0.32486,     0.32409,     0.32333,     0.32277,     0.32222,     0.32166,      0.3211,     0.32054,     0.32036,     0.32036,     0.32036,     0.31622,     0.31469,       0.314,     0.31352,     0.31305,     0.31258,     0.31211,     0.31164,\n",
              "            0.31091,     0.30989,     0.30887,     0.30784,     0.30682,      0.3058,     0.30514,     0.30473,     0.30433,     0.30392,     0.30351,      0.3031,     0.30269,     0.30153,      0.2994,     0.29917,     0.29849,     0.29781,     0.29713,     0.29645,     0.29352,     0.29341,     0.29337,\n",
              "             0.2903,     0.28435,     0.28313,      0.2819,     0.28048,     0.27894,     0.27638,     0.27545,     0.27545,     0.27545,     0.27545,     0.27545,     0.27545,     0.27545,     0.27511,     0.27424,     0.27336,     0.27248,     0.27246,     0.27144,     0.27042,     0.26933,     0.26728,\n",
              "            0.26585,     0.26483,     0.26381,      0.2614,     0.26048,     0.26048,     0.26048,     0.26048,     0.26031,     0.25975,     0.25919,     0.25863,     0.25807,     0.25752,     0.25414,     0.25337,     0.25261,     0.25184,     0.25082,     0.24959,     0.24815,     0.24551,     0.24537,\n",
              "            0.24449,     0.24361,     0.24274,     0.24251,     0.24251,     0.24251,     0.24251,     0.24251,     0.23984,     0.23891,     0.23823,     0.23755,     0.23686,     0.23648,     0.23341,     0.23054,     0.22736,     0.22532,     0.22435,     0.22403,      0.2237,     0.22338,     0.22306,\n",
              "            0.22273,     0.22241,     0.22209,     0.22176,     0.22046,     0.21621,     0.21557,     0.21557,     0.21557,     0.21557,     0.21557,     0.21544,     0.21217,     0.20887,     0.20764,     0.20359,     0.20359,     0.20359,     0.20359,      0.2027,     0.20148,     0.19972,     0.19722,\n",
              "              0.196,     0.19477,     0.19138,     0.19077,     0.19015,     0.18954,     0.18893,     0.18707,     0.18454,      0.1826,     0.18209,     0.18158,     0.18107,     0.18055,     0.18004,     0.17964,     0.17964,     0.17964,     0.17942,     0.17915,     0.17887,     0.17859,     0.17831,\n",
              "            0.17803,     0.17775,     0.17747,     0.17719,     0.17691,     0.17665,     0.17665,     0.17625,     0.17557,     0.17489,     0.17421,     0.17352,     0.17284,     0.17216,     0.17148,      0.1708,     0.17005,     0.16928,     0.16851,     0.16774,     0.16467,     0.16467,     0.16467,\n",
              "            0.16368,     0.16156,     0.15843,     0.15796,     0.15749,     0.15702,     0.15654,     0.15607,     0.15559,     0.15508,     0.15457,     0.15406,     0.15355,     0.15303,     0.14944,     0.14868,     0.14791,     0.14714,     0.14617,     0.14495,     0.14372,     0.14371,     0.14371,\n",
              "            0.14201,     0.14039,     0.13984,     0.13928,     0.13872,     0.13816,     0.13641,     0.13399,     0.13296,     0.13194,     0.13174,     0.13174,     0.13174,     0.13174,     0.13174,     0.13174,     0.13174,     0.13099,     0.13022,     0.12946,     0.12832,     0.12397,     0.12229,\n",
              "            0.12152,     0.12076,     0.11999,     0.11644,      0.1149,     0.11345,     0.11222,     0.11099,     0.10909,     0.10705,       0.105,     0.10203,     0.10038,    0.098847,    0.095822,    0.092051,    0.091283,    0.090516,    0.089785,    0.089401,    0.089017,    0.088634,     0.08825,\n",
              "           0.087866,    0.087483,    0.087099,      0.0867,    0.086261,    0.085823,    0.085385,    0.084946,    0.084508,    0.084069,    0.083362,    0.082339,    0.081316,    0.080184,    0.078957,    0.077792,    0.077234,    0.076676,    0.076118,     0.07556,    0.075002,     0.07485,    0.071526,\n",
              "           0.071088,     0.07065,    0.070211,    0.069773,    0.069334,    0.068896,    0.067445,    0.065911,    0.063879,    0.062094,    0.060559,    0.059636,    0.059197,    0.058759,    0.058321,    0.057882,    0.057444,    0.057005,    0.056886,    0.056886,    0.056886,    0.055246,    0.053633,\n",
              "           0.052865,    0.052098,    0.051331,     0.04956,    0.045078,     0.04292,    0.041525,    0.040758,    0.039991,    0.039224,    0.038456,    0.037689,    0.036922,    0.036155,    0.035928,    0.035928,    0.035928,    0.035839,    0.035532,    0.035225,    0.034918,    0.034612,    0.034305,\n",
              "           0.033998,    0.033691,    0.033384,    0.033077,    0.031841,    0.029916,    0.029575,    0.029234,    0.028893,    0.028552,    0.028211,     0.02787,    0.027529,    0.027188,      0.0265,    0.024966,    0.023904,    0.023761,    0.023618,    0.023475,    0.023333,     0.02319,    0.023047,\n",
              "           0.022904,    0.022762,    0.022619,    0.022476,    0.022334,    0.022191,    0.022048,    0.021905,    0.021763,     0.02162,    0.021477,    0.021334,    0.021192,    0.021049,     0.01984,    0.017368,    0.015833,    0.014867,    0.014631,    0.014395,    0.014159,    0.013922,    0.013686,\n",
              "            0.01345,    0.013214,    0.012978,    0.012742,    0.012506,     0.01227,    0.012034,    0.010818,   0.0092832,   0.0086026,   0.0081304,   0.0076583,   0.0071861,    0.006714,   0.0062418,   0.0059092,   0.0057387,   0.0055682,   0.0053977,   0.0052272,   0.0050567,   0.0048862,   0.0047157,\n",
              "          0.0045452,   0.0043747,   0.0042042,   0.0040337,   0.0038632,   0.0036927,   0.0035222,   0.0033517,   0.0031812,   0.0030107,           0,           0,           0,           0,           0,           0,           0,           0,           0,           0,           0,           0,           0,\n",
              "                  0,           0,           0,           0,           0,           0,           0,           0,           0,           0,           0]]), 'Confidence', 'Recall']]\n",
              "fitness: 0.3051115640172819\n",
              "keys: ['metrics/precision(B)', 'metrics/recall(B)', 'metrics/mAP50(B)', 'metrics/mAP50-95(B)']\n",
              "maps: array([    0.27506])\n",
              "names: {0: 'emptySpaces'}\n",
              "plot: True\n",
              "results_dict: {'metrics/precision(B)': 0.6406772297438648, 'metrics/recall(B)': 0.5568862275449101, 'metrics/mAP50(B)': 0.5755577998506936, 'metrics/mAP50-95(B)': 0.2750619822580139, 'fitness': 0.3051115640172819}\n",
              "save_dir: PosixPath('runs/detect/train')\n",
              "speed: {'preprocess': 0.22638175222608778, 'inference': 2.9716392358144126, 'loss': 0.000639094246758355, 'postprocess': 3.213412231869168}\n",
              "task: 'detect'"
            ]
          },
          "metadata": {},
          "execution_count": 5
        }
      ]
    },
    {
      "cell_type": "code",
      "source": [
        "# Save the trained model\n",
        "trained_model_path = '/content/emptySpace_n.pt'\n",
        "model.save(trained_model_path)"
      ],
      "metadata": {
        "id": "wfq0-PxAGUhA"
      },
      "execution_count": 9,
      "outputs": []
    }
  ]
}